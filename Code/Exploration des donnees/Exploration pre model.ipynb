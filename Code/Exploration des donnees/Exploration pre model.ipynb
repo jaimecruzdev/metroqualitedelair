{
 "cells": [
  {
   "cell_type": "markdown",
   "metadata": {},
   "source": [
    "# Exploration des donnés avant de modéliser nos données"
   ]
  },
  {
   "cell_type": "markdown",
   "metadata": {},
   "source": [
    "#### Nous allons plusieurs questions et points à explorer avant de définitivement lancer un modèle cible. Réflexions :"
   ]
  },
  {
   "cell_type": "markdown",
   "metadata": {},
   "source": [
    "\n",
    "1. Nous prénons le CO2 comme référence cible. Il y a des données entre 2014 et 2019, même s'ils éxistent de trous toute au longue de cette période.\n",
    "\n",
    "2. Pour voir où l'interpolation a de sense, nous allons explorer la taille des trous (valeur manquantes) des variales. Quand ils sont trop grandes, ça n'a pas de sense. Par contre si nous retrouvons des manques d'une ou deux heures on pourrait les intepoler. \n",
    "\n",
    "3. Les températures externes \"ext\" éxistent entre 2014 et 2017. Nous pourrons tester notre future modèle sans elle entre 2014 et 2019 et avec elles entre 2014 et 2017.\n",
    "\n",
    "4. Nous pouvons écarter ext_so2 et ext_co parce qu'il n'y a pas assez de données. \n",
    "\n",
    "5. Nous pouvons envisager de prédire des pics également.\n",
    "\n",
    "6. Etant notre cible le CO2 (qui devrait être lié au nombre des personnes, nous porrons envisager également de predire NO2 ou NO."
   ]
  },
  {
   "cell_type": "markdown",
   "metadata": {},
   "source": [
    "## Libraries à importer"
   ]
  },
  {
   "cell_type": "code",
   "execution_count": 3,
   "metadata": {},
   "outputs": [
    {
     "name": "stderr",
     "output_type": "stream",
     "text": [
      "Warning message:\n",
      "\"package 'tidyverse' was built under R version 3.6.3\"-- Attaching packages ------------------------------------------------------------------------------- tidyverse 1.3.0 --\n",
      "v ggplot2 3.3.2     v purrr   0.3.4\n",
      "v tibble  3.0.4     v dplyr   1.0.2\n",
      "v tidyr   1.1.2     v stringr 1.4.0\n",
      "v readr   1.4.0     v forcats 0.5.0\n",
      "Warning message:\n",
      "\"package 'ggplot2' was built under R version 3.6.3\"Warning message:\n",
      "\"package 'tibble' was built under R version 3.6.3\"Warning message:\n",
      "\"package 'tidyr' was built under R version 3.6.3\"Warning message:\n",
      "\"package 'readr' was built under R version 3.6.3\"Warning message:\n",
      "\"package 'purrr' was built under R version 3.6.3\"Warning message:\n",
      "\"package 'dplyr' was built under R version 3.6.3\"Warning message:\n",
      "\"package 'stringr' was built under R version 3.6.3\"Warning message:\n",
      "\"package 'forcats' was built under R version 3.6.3\"-- Conflicts ---------------------------------------------------------------------------------- tidyverse_conflicts() --\n",
      "x dplyr::filter() masks stats::filter()\n",
      "x dplyr::lag()    masks stats::lag()\n"
     ]
    }
   ],
   "source": [
    "library(\"tidyverse\")"
   ]
  },
  {
   "cell_type": "markdown",
   "metadata": {},
   "source": [
    "## Variables globales"
   ]
  },
  {
   "cell_type": "code",
   "execution_count": 4,
   "metadata": {},
   "outputs": [],
   "source": [
    "DATA_PATH=\"C://Formation IA//CEPE//Projet//QAIR//Data//Prepared//\"\n",
    "DATA_FILE_IN=\"DataCorrelated.csv\"\n",
    "DATA_FILE_OUT=\"data_model.csv\""
   ]
  },
  {
   "cell_type": "markdown",
   "metadata": {},
   "source": [
    "## Lecture des données"
   ]
  },
  {
   "cell_type": "markdown",
   "metadata": {},
   "source": [
    "D'abord, nous allons récupérer les données prépares suite au travail d'exploration et préparation des données."
   ]
  },
  {
   "cell_type": "code",
   "execution_count": 5,
   "metadata": {
    "scrolled": true
   },
   "outputs": [],
   "source": [
    "fichier_donnees=paste(DATA_PATH,DATA_FILE_IN,sep=\"\")\n",
    "df<-read.csv(fichier_donnees)"
   ]
  },
  {
   "cell_type": "markdown",
   "metadata": {},
   "source": [
    "bien lu?"
   ]
  },
  {
   "cell_type": "code",
   "execution_count": 6,
   "metadata": {
    "scrolled": true
   },
   "outputs": [
    {
     "data": {
      "text/html": [
       "<table>\n",
       "<thead><tr><th scope=col>X</th><th scope=col>Index</th><th scope=col>Date_Heure_Locale</th><th scope=col>Heure_Local</th><th scope=col>Timestamp</th><th scope=col>Annee</th><th scope=col>Mois</th><th scope=col>Heure</th><th scope=col>Semaine_de_lannee</th><th scope=col>Jour_de_la_Semaine</th><th scope=col>...</th><th scope=col>no</th><th scope=col>no2</th><th scope=col>humidite</th><th scope=col>particules_fines</th><th scope=col>ext_pm25</th><th scope=col>ext_pm10</th><th scope=col>ext_o3</th><th scope=col>ext_no2</th><th scope=col>ext_so2</th><th scope=col>ext_co</th></tr></thead>\n",
       "<tbody>\n",
       "\t<tr><td> 1                 </td><td> 1                 </td><td>2013-01-01 01:00:00</td><td> 1                 </td><td>2013-01-01 00:00:00</td><td>2013               </td><td>1                  </td><td> 0                 </td><td>1                  </td><td>2                  </td><td>...                </td><td>NA                 </td><td>NA                 </td><td>  NA               </td><td>NA                 </td><td>NA                 </td><td>NA                 </td><td>NA                 </td><td>NA                 </td><td>NA                 </td><td>NA                 </td></tr>\n",
       "\t<tr><td> 2                 </td><td> 2                 </td><td>2013-01-01 02:00:00</td><td> 2                 </td><td>2013-01-01 01:00:00</td><td>2013               </td><td>1                  </td><td> 1                 </td><td>1                  </td><td>2                  </td><td>...                </td><td>23                 </td><td>41                 </td><td>65.6               </td><td>26                 </td><td>NA                 </td><td>NA                 </td><td>NA                 </td><td>NA                 </td><td>NA                 </td><td>NA                 </td></tr>\n",
       "\t<tr><td> 3                 </td><td> 3                 </td><td>2013-01-01 03:00:00</td><td> 3                 </td><td>2013-01-01 02:00:00</td><td>2013               </td><td>1                  </td><td> 2                 </td><td>1                  </td><td>2                  </td><td>...                </td><td>43                 </td><td>61                 </td><td>65.0               </td><td>18                 </td><td>NA                 </td><td>NA                 </td><td>NA                 </td><td>NA                 </td><td>NA                 </td><td>NA                 </td></tr>\n",
       "\t<tr><td> 4                 </td><td> 4                 </td><td>2013-01-01 04:00:00</td><td> 4                 </td><td>2013-01-01 03:00:00</td><td>2013               </td><td>1                  </td><td> 3                 </td><td>1                  </td><td>2                  </td><td>...                </td><td>22                 </td><td>52                 </td><td>63.3               </td><td>45                 </td><td>NA                 </td><td>NA                 </td><td>NA                 </td><td>NA                 </td><td>NA                 </td><td>NA                 </td></tr>\n",
       "\t<tr><td> 5                 </td><td> 5                 </td><td>2013-01-01 05:00:00</td><td> 5                 </td><td>2013-01-01 04:00:00</td><td>2013               </td><td>1                  </td><td> 4                 </td><td>1                  </td><td>2                  </td><td>...                </td><td>27                 </td><td>56                 </td><td>63.7               </td><td>22                 </td><td>NA                 </td><td>NA                 </td><td>NA                 </td><td>NA                 </td><td>NA                 </td><td>NA                 </td></tr>\n",
       "\t<tr><td> 6                 </td><td> 6                 </td><td>2013-01-01 06:00:00</td><td> 6                 </td><td>2013-01-01 05:00:00</td><td>2013               </td><td>1                  </td><td> 5                 </td><td>1                  </td><td>2                  </td><td>...                </td><td>27                 </td><td>57                 </td><td>63.3               </td><td>15                 </td><td>NA                 </td><td>NA                 </td><td>NA                 </td><td>NA                 </td><td>NA                 </td><td>NA                 </td></tr>\n",
       "\t<tr><td> 7                 </td><td> 7                 </td><td>2013-01-01 07:00:00</td><td> 7                 </td><td>2013-01-01 06:00:00</td><td>2013               </td><td>1                  </td><td> 6                 </td><td>1                  </td><td>2                  </td><td>...                </td><td>20                 </td><td>50                 </td><td>63.2               </td><td>17                 </td><td>NA                 </td><td>NA                 </td><td>NA                 </td><td>NA                 </td><td>NA                 </td><td>NA                 </td></tr>\n",
       "\t<tr><td> 8                 </td><td> 8                 </td><td>2013-01-01 08:00:00</td><td> 8                 </td><td>2013-01-01 07:00:00</td><td>2013               </td><td>1                  </td><td> 7                 </td><td>1                  </td><td>2                  </td><td>...                </td><td>24                 </td><td>51                 </td><td>63.7               </td><td>17                 </td><td>NA                 </td><td>NA                 </td><td>NA                 </td><td>NA                 </td><td>NA                 </td><td>NA                 </td></tr>\n",
       "\t<tr><td> 9                 </td><td> 9                 </td><td>2013-01-01 09:00:00</td><td> 9                 </td><td>2013-01-01 08:00:00</td><td>2013               </td><td>1                  </td><td> 8                 </td><td>1                  </td><td>2                  </td><td>...                </td><td>10                 </td><td>37                 </td><td>64.1               </td><td>20                 </td><td>NA                 </td><td>NA                 </td><td>NA                 </td><td>NA                 </td><td>NA                 </td><td>NA                 </td></tr>\n",
       "\t<tr><td>10                 </td><td>10                 </td><td>2013-01-01 10:00:00</td><td>10                 </td><td>2013-01-01 09:00:00</td><td>2013               </td><td>1                  </td><td> 9                 </td><td>1                  </td><td>2                  </td><td>...                </td><td>11                 </td><td>40                 </td><td>64.0               </td><td>13                 </td><td>NA                 </td><td>NA                 </td><td>NA                 </td><td>NA                 </td><td>NA                 </td><td>NA                 </td></tr>\n",
       "\t<tr><td>11                 </td><td>11                 </td><td>2013-01-01 11:00:00</td><td>11                 </td><td>2013-01-01 10:00:00</td><td>2013               </td><td>1                  </td><td>10                 </td><td>1                  </td><td>2                  </td><td>...                </td><td>11                 </td><td>42                 </td><td>61.7               </td><td> 7                 </td><td>NA                 </td><td>NA                 </td><td>NA                 </td><td>NA                 </td><td>NA                 </td><td>NA                 </td></tr>\n",
       "\t<tr><td>12                 </td><td>12                 </td><td>2013-01-01 12:00:00</td><td>12                 </td><td>2013-01-01 11:00:00</td><td>2013               </td><td>1                  </td><td>11                 </td><td>1                  </td><td>2                  </td><td>...                </td><td>18                 </td><td>52                 </td><td>58.2               </td><td> 8                 </td><td>NA                 </td><td>NA                 </td><td>NA                 </td><td>NA                 </td><td>NA                 </td><td>NA                 </td></tr>\n",
       "\t<tr><td>13                 </td><td>13                 </td><td>2013-01-01 13:00:00</td><td>13                 </td><td>2013-01-01 12:00:00</td><td>2013               </td><td>1                  </td><td>12                 </td><td>1                  </td><td>2                  </td><td>...                </td><td>19                 </td><td>58                 </td><td>54.1               </td><td> 7                 </td><td>NA                 </td><td>NA                 </td><td>NA                 </td><td>NA                 </td><td>NA                 </td><td>NA                 </td></tr>\n",
       "\t<tr><td>14                 </td><td>14                 </td><td>2013-01-01 14:00:00</td><td>14                 </td><td>2013-01-01 13:00:00</td><td>2013               </td><td>1                  </td><td>13                 </td><td>1                  </td><td>2                  </td><td>...                </td><td>15                 </td><td>55                 </td><td>50.4               </td><td>NA                 </td><td>NA                 </td><td>NA                 </td><td>NA                 </td><td>NA                 </td><td>NA                 </td><td>NA                 </td></tr>\n",
       "\t<tr><td>15                 </td><td>15                 </td><td>2013-01-01 15:00:00</td><td>15                 </td><td>2013-01-01 14:00:00</td><td>2013               </td><td>1                  </td><td>14                 </td><td>1                  </td><td>2                  </td><td>...                </td><td>33                 </td><td>73                 </td><td>48.9               </td><td>18                 </td><td>NA                 </td><td>NA                 </td><td>NA                 </td><td>NA                 </td><td>NA                 </td><td>NA                 </td></tr>\n",
       "\t<tr><td>16                 </td><td>16                 </td><td>2013-01-01 16:00:00</td><td>16                 </td><td>2013-01-01 15:00:00</td><td>2013               </td><td>1                  </td><td>15                 </td><td>1                  </td><td>2                  </td><td>...                </td><td>29                 </td><td>72                 </td><td>48.7               </td><td>26                 </td><td>NA                 </td><td>NA                 </td><td>NA                 </td><td>NA                 </td><td>NA                 </td><td>NA                 </td></tr>\n",
       "\t<tr><td>17                 </td><td>17                 </td><td>2013-01-01 17:00:00</td><td>17                 </td><td>2013-01-01 16:00:00</td><td>2013               </td><td>1                  </td><td>16                 </td><td>1                  </td><td>2                  </td><td>...                </td><td>35                 </td><td>77                 </td><td>48.4               </td><td>27                 </td><td>NA                 </td><td>NA                 </td><td>NA                 </td><td>NA                 </td><td>NA                 </td><td>NA                 </td></tr>\n",
       "\t<tr><td>18                 </td><td>18                 </td><td>2013-01-01 18:00:00</td><td>18                 </td><td>2013-01-01 17:00:00</td><td>2013               </td><td>1                  </td><td>17                 </td><td>1                  </td><td>2                  </td><td>...                </td><td>75                 </td><td>94                 </td><td>51.6               </td><td>46                 </td><td>NA                 </td><td>NA                 </td><td>NA                 </td><td>NA                 </td><td>NA                 </td><td>NA                 </td></tr>\n",
       "\t<tr><td>19                 </td><td>19                 </td><td>2013-01-01 19:00:00</td><td>19                 </td><td>2013-01-01 18:00:00</td><td>2013               </td><td>1                  </td><td>18                 </td><td>1                  </td><td>2                  </td><td>...                </td><td>65                 </td><td>94                 </td><td>54.2               </td><td>41                 </td><td>NA                 </td><td>NA                 </td><td>NA                 </td><td>NA                 </td><td>NA                 </td><td>NA                 </td></tr>\n",
       "\t<tr><td>20                 </td><td>20                 </td><td>2013-01-01 20:00:00</td><td>20                 </td><td>2013-01-01 19:00:00</td><td>2013               </td><td>1                  </td><td>19                 </td><td>1                  </td><td>2                  </td><td>...                </td><td>72                 </td><td>95                 </td><td>53.9               </td><td>17                 </td><td>NA                 </td><td>NA                 </td><td>NA                 </td><td>NA                 </td><td>NA                 </td><td>NA                 </td></tr>\n",
       "\t<tr><td>21                 </td><td>21                 </td><td>2013-01-01 21:00:00</td><td>21                 </td><td>2013-01-01 20:00:00</td><td>2013               </td><td>1                  </td><td>20                 </td><td>1                  </td><td>2                  </td><td>...                </td><td>34                 </td><td>75                 </td><td>52.5               </td><td>21                 </td><td>NA                 </td><td>NA                 </td><td>NA                 </td><td>NA                 </td><td>NA                 </td><td>NA                 </td></tr>\n",
       "\t<tr><td>22                 </td><td>22                 </td><td>2013-01-01 22:00:00</td><td>22                 </td><td>2013-01-01 21:00:00</td><td>2013               </td><td>1                  </td><td>21                 </td><td>1                  </td><td>2                  </td><td>...                </td><td>37                 </td><td>71                 </td><td>51.9               </td><td>22                 </td><td>NA                 </td><td>NA                 </td><td>NA                 </td><td>NA                 </td><td>NA                 </td><td>NA                 </td></tr>\n",
       "\t<tr><td>23                 </td><td>23                 </td><td>2013-01-01 23:00:00</td><td>23                 </td><td>2013-01-01 22:00:00</td><td>2013               </td><td>1                  </td><td>22                 </td><td>1                  </td><td>2                  </td><td>...                </td><td>24                 </td><td>66                 </td><td>51.8               </td><td>22                 </td><td>NA                 </td><td>NA                 </td><td>NA                 </td><td>NA                 </td><td>NA                 </td><td>NA                 </td></tr>\n",
       "\t<tr><td>24                 </td><td>24                 </td><td>2013-01-02 00:00:00</td><td> 0                 </td><td>2013-01-01 23:00:00</td><td>2013               </td><td>1                  </td><td>23                 </td><td>1                  </td><td>2                  </td><td>...                </td><td>22                 </td><td>66                 </td><td>51.7               </td><td>27                 </td><td>NA                 </td><td>NA                 </td><td>NA                 </td><td>NA                 </td><td>NA                 </td><td>NA                 </td></tr>\n",
       "\t<tr><td>25                 </td><td>25                 </td><td>2013-01-02 01:00:00</td><td> 1                 </td><td>2013-01-02 00:00:00</td><td>2013               </td><td>1                  </td><td> 0                 </td><td>1                  </td><td>3                  </td><td>...                </td><td>20                 </td><td>60                 </td><td>50.9               </td><td>25                 </td><td>NA                 </td><td>NA                 </td><td>NA                 </td><td>NA                 </td><td>NA                 </td><td>NA                 </td></tr>\n",
       "\t<tr><td>26                 </td><td>26                 </td><td>2013-01-02 02:00:00</td><td> 2                 </td><td>2013-01-02 01:00:00</td><td>2013               </td><td>1                  </td><td> 1                 </td><td>1                  </td><td>3                  </td><td>...                </td><td>17                 </td><td>54                 </td><td>49.0               </td><td>23                 </td><td>NA                 </td><td>NA                 </td><td>NA                 </td><td>NA                 </td><td>NA                 </td><td>NA                 </td></tr>\n",
       "\t<tr><td>27                 </td><td>27                 </td><td>2013-01-02 03:00:00</td><td> 3                 </td><td>2013-01-02 02:00:00</td><td>2013               </td><td>1                  </td><td> 2                 </td><td>1                  </td><td>3                  </td><td>...                </td><td>12                 </td><td>47                 </td><td>48.6               </td><td>18                 </td><td>NA                 </td><td>NA                 </td><td>NA                 </td><td>NA                 </td><td>NA                 </td><td>NA                 </td></tr>\n",
       "\t<tr><td>28                 </td><td>28                 </td><td>2013-01-02 04:00:00</td><td> 4                 </td><td>2013-01-02 03:00:00</td><td>2013               </td><td>1                  </td><td> 3                 </td><td>1                  </td><td>3                  </td><td>...                </td><td>11                 </td><td>45                 </td><td>48.8               </td><td>16                 </td><td>NA                 </td><td>NA                 </td><td>NA                 </td><td>NA                 </td><td>NA                 </td><td>NA                 </td></tr>\n",
       "\t<tr><td>29                 </td><td>29                 </td><td>2013-01-02 05:00:00</td><td> 5                 </td><td>2013-01-02 04:00:00</td><td>2013               </td><td>1                  </td><td> 4                 </td><td>1                  </td><td>3                  </td><td>...                </td><td> 8                 </td><td>42                 </td><td>48.9               </td><td>13                 </td><td>NA                 </td><td>NA                 </td><td>NA                 </td><td>NA                 </td><td>NA                 </td><td>NA                 </td></tr>\n",
       "\t<tr><td>30                 </td><td>30                 </td><td>2013-01-02 06:00:00</td><td> 6                 </td><td>2013-01-02 05:00:00</td><td>2013               </td><td>1                  </td><td> 5                 </td><td>1                  </td><td>3                  </td><td>...                </td><td> 9                 </td><td>43                 </td><td>50.2               </td><td>16                 </td><td>NA                 </td><td>NA                 </td><td>NA                 </td><td>NA                 </td><td>NA                 </td><td>NA                 </td></tr>\n",
       "\t<tr><td>...</td><td>...</td><td>...</td><td>...</td><td>...</td><td>...</td><td>...</td><td>...</td><td>...</td><td>...</td><td>   </td><td>...</td><td>...</td><td>...</td><td>...</td><td>...</td><td>...</td><td>...</td><td>...</td><td>...</td><td>...</td></tr>\n",
       "\t<tr><td>70123              </td><td>70123              </td><td>2020-12-31 19:00:00</td><td>19                 </td><td>2020-12-31 18:00:00</td><td>2020               </td><td>12                 </td><td>18                 </td><td>53                 </td><td>4                  </td><td>...                </td><td>18                 </td><td>42                 </td><td>49.8               </td><td>92                 </td><td>61                 </td><td>39                 </td><td>10                 </td><td>31                 </td><td>NA                 </td><td>NA                 </td></tr>\n",
       "\t<tr><td>70124              </td><td>70124              </td><td>2020-12-31 20:00:00</td><td>20                 </td><td>2020-12-31 19:00:00</td><td>2020               </td><td>12                 </td><td>19                 </td><td>53                 </td><td>4                  </td><td>...                </td><td>31                 </td><td>51                 </td><td>50.7               </td><td>94                 </td><td>61                 </td><td>39                 </td><td>10                 </td><td>31                 </td><td>NA                 </td><td>NA                 </td></tr>\n",
       "\t<tr><td>70125              </td><td>70125              </td><td>2020-12-31 21:00:00</td><td>21                 </td><td>2020-12-31 20:00:00</td><td>2020               </td><td>12                 </td><td>20                 </td><td>53                 </td><td>4                  </td><td>...                </td><td>22                 </td><td>47                 </td><td>51.3               </td><td>85                 </td><td>61                 </td><td>39                 </td><td>10                 </td><td>31                 </td><td>NA                 </td><td>NA                 </td></tr>\n",
       "\t<tr><td>70126              </td><td>70126              </td><td>2020-12-31 22:00:00</td><td>22                 </td><td>2020-12-31 21:00:00</td><td>2020               </td><td>12                 </td><td>21                 </td><td>53                 </td><td>4                  </td><td>...                </td><td>43                 </td><td>58                 </td><td>46.6               </td><td>70                 </td><td>61                 </td><td>39                 </td><td>10                 </td><td>31                 </td><td>NA                 </td><td>NA                 </td></tr>\n",
       "\t<tr><td>70127              </td><td>70127              </td><td>2020-12-31 23:00:00</td><td>23                 </td><td>2020-12-31 22:00:00</td><td>2020               </td><td>12                 </td><td>22                 </td><td>53                 </td><td>4                  </td><td>...                </td><td>15                 </td><td>50                 </td><td>45.2               </td><td>46                 </td><td>61                 </td><td>39                 </td><td>10                 </td><td>31                 </td><td>NA                 </td><td>NA                 </td></tr>\n",
       "\t<tr><td>70128              </td><td>70128              </td><td>2021-01-01 00:00:00</td><td> 0                 </td><td>2020-12-31 23:00:00</td><td>2020               </td><td>12                 </td><td>23                 </td><td>53                 </td><td>4                  </td><td>...                </td><td>14                 </td><td>46                 </td><td>44.4               </td><td>44                 </td><td>61                 </td><td>39                 </td><td>10                 </td><td>31                 </td><td>NA                 </td><td>NA                 </td></tr>\n",
       "\t<tr><td>70129              </td><td>70129              </td><td>2021-01-01 01:00:00</td><td> 1                 </td><td>2021-01-01 00:00:00</td><td>2021               </td><td> 1                 </td><td> 0                 </td><td>53                 </td><td>5                  </td><td>...                </td><td>NA                 </td><td>NA                 </td><td>  NA               </td><td>NA                 </td><td>94                 </td><td>50                 </td><td> 2                 </td><td>35                 </td><td> 1                 </td><td>NA                 </td></tr>\n",
       "\t<tr><td>70130              </td><td>70130              </td><td>2021-01-01 02:00:00</td><td> 2                 </td><td>2021-01-01 01:00:00</td><td>2021               </td><td> 1                 </td><td> 1                 </td><td>53                 </td><td>5                  </td><td>...                </td><td>NA                 </td><td>NA                 </td><td>  NA               </td><td>NA                 </td><td>94                 </td><td>50                 </td><td> 2                 </td><td>35                 </td><td> 1                 </td><td>NA                 </td></tr>\n",
       "\t<tr><td>70131              </td><td>70131              </td><td>2021-01-01 03:00:00</td><td> 3                 </td><td>2021-01-01 02:00:00</td><td>2021               </td><td> 1                 </td><td> 2                 </td><td>53                 </td><td>5                  </td><td>...                </td><td>NA                 </td><td>NA                 </td><td>  NA               </td><td>NA                 </td><td>94                 </td><td>50                 </td><td> 2                 </td><td>35                 </td><td> 1                 </td><td>NA                 </td></tr>\n",
       "\t<tr><td>70132              </td><td>70132              </td><td>2021-01-01 04:00:00</td><td> 4                 </td><td>2021-01-01 03:00:00</td><td>2021               </td><td> 1                 </td><td> 3                 </td><td>53                 </td><td>5                  </td><td>...                </td><td>NA                 </td><td>NA                 </td><td>  NA               </td><td>NA                 </td><td>94                 </td><td>50                 </td><td> 2                 </td><td>35                 </td><td> 1                 </td><td>NA                 </td></tr>\n",
       "\t<tr><td>70133              </td><td>70133              </td><td>2021-01-01 05:00:00</td><td> 5                 </td><td>2021-01-01 04:00:00</td><td>2021               </td><td> 1                 </td><td> 4                 </td><td>53                 </td><td>5                  </td><td>...                </td><td>NA                 </td><td>NA                 </td><td>  NA               </td><td>NA                 </td><td>94                 </td><td>50                 </td><td> 2                 </td><td>35                 </td><td> 1                 </td><td>NA                 </td></tr>\n",
       "\t<tr><td>70134              </td><td>70134              </td><td>2021-01-01 06:00:00</td><td> 6                 </td><td>2021-01-01 05:00:00</td><td>2021               </td><td> 1                 </td><td> 5                 </td><td>53                 </td><td>5                  </td><td>...                </td><td>NA                 </td><td>NA                 </td><td>  NA               </td><td>NA                 </td><td>94                 </td><td>50                 </td><td> 2                 </td><td>35                 </td><td> 1                 </td><td>NA                 </td></tr>\n",
       "\t<tr><td>70135              </td><td>70135              </td><td>2021-01-01 07:00:00</td><td> 7                 </td><td>2021-01-01 06:00:00</td><td>2021               </td><td> 1                 </td><td> 6                 </td><td>53                 </td><td>5                  </td><td>...                </td><td>NA                 </td><td>NA                 </td><td>  NA               </td><td>NA                 </td><td>94                 </td><td>50                 </td><td> 2                 </td><td>35                 </td><td> 1                 </td><td>NA                 </td></tr>\n",
       "\t<tr><td>70136              </td><td>70136              </td><td>2021-01-01 08:00:00</td><td> 8                 </td><td>2021-01-01 07:00:00</td><td>2021               </td><td> 1                 </td><td> 7                 </td><td>53                 </td><td>5                  </td><td>...                </td><td>NA                 </td><td>NA                 </td><td>  NA               </td><td>NA                 </td><td>94                 </td><td>50                 </td><td> 2                 </td><td>35                 </td><td> 1                 </td><td>NA                 </td></tr>\n",
       "\t<tr><td>70137              </td><td>70137              </td><td>2021-01-01 09:00:00</td><td> 9                 </td><td>2021-01-01 08:00:00</td><td>2021               </td><td> 1                 </td><td> 8                 </td><td>53                 </td><td>5                  </td><td>...                </td><td>NA                 </td><td>NA                 </td><td>  NA               </td><td>NA                 </td><td>94                 </td><td>50                 </td><td> 2                 </td><td>35                 </td><td> 1                 </td><td>NA                 </td></tr>\n",
       "\t<tr><td>70138              </td><td>70138              </td><td>2021-01-01 10:00:00</td><td>10                 </td><td>2021-01-01 09:00:00</td><td>2021               </td><td> 1                 </td><td> 9                 </td><td>53                 </td><td>5                  </td><td>...                </td><td>NA                 </td><td>NA                 </td><td>  NA               </td><td>NA                 </td><td>94                 </td><td>50                 </td><td> 2                 </td><td>35                 </td><td> 1                 </td><td>NA                 </td></tr>\n",
       "\t<tr><td>70139              </td><td>70139              </td><td>2021-01-01 11:00:00</td><td>11                 </td><td>2021-01-01 10:00:00</td><td>2021               </td><td> 1                 </td><td>10                 </td><td>53                 </td><td>5                  </td><td>...                </td><td>NA                 </td><td>NA                 </td><td>  NA               </td><td>NA                 </td><td>94                 </td><td>50                 </td><td> 2                 </td><td>35                 </td><td> 1                 </td><td>NA                 </td></tr>\n",
       "\t<tr><td>70140              </td><td>70140              </td><td>2021-01-01 12:00:00</td><td>12                 </td><td>2021-01-01 11:00:00</td><td>2021               </td><td> 1                 </td><td>11                 </td><td>53                 </td><td>5                  </td><td>...                </td><td>NA                 </td><td>NA                 </td><td>  NA               </td><td>NA                 </td><td>94                 </td><td>50                 </td><td> 2                 </td><td>35                 </td><td> 1                 </td><td>NA                 </td></tr>\n",
       "\t<tr><td>70141              </td><td>70141              </td><td>2021-01-01 13:00:00</td><td>13                 </td><td>2021-01-01 12:00:00</td><td>2021               </td><td> 1                 </td><td>12                 </td><td>53                 </td><td>5                  </td><td>...                </td><td>NA                 </td><td>NA                 </td><td>  NA               </td><td>NA                 </td><td>94                 </td><td>50                 </td><td> 2                 </td><td>35                 </td><td> 1                 </td><td>NA                 </td></tr>\n",
       "\t<tr><td>70142              </td><td>70142              </td><td>2021-01-01 14:00:00</td><td>14                 </td><td>2021-01-01 13:00:00</td><td>2021               </td><td> 1                 </td><td>13                 </td><td>53                 </td><td>5                  </td><td>...                </td><td>NA                 </td><td>NA                 </td><td>  NA               </td><td>NA                 </td><td>94                 </td><td>50                 </td><td> 2                 </td><td>35                 </td><td> 1                 </td><td>NA                 </td></tr>\n",
       "\t<tr><td>70143              </td><td>70143              </td><td>2021-01-01 15:00:00</td><td>15                 </td><td>2021-01-01 14:00:00</td><td>2021               </td><td> 1                 </td><td>14                 </td><td>53                 </td><td>5                  </td><td>...                </td><td>NA                 </td><td>NA                 </td><td>  NA               </td><td>NA                 </td><td>94                 </td><td>50                 </td><td> 2                 </td><td>35                 </td><td> 1                 </td><td>NA                 </td></tr>\n",
       "\t<tr><td>70144              </td><td>70144              </td><td>2021-01-01 16:00:00</td><td>16                 </td><td>2021-01-01 15:00:00</td><td>2021               </td><td> 1                 </td><td>15                 </td><td>53                 </td><td>5                  </td><td>...                </td><td>NA                 </td><td>NA                 </td><td>  NA               </td><td>NA                 </td><td>94                 </td><td>50                 </td><td> 2                 </td><td>35                 </td><td> 1                 </td><td>NA                 </td></tr>\n",
       "\t<tr><td>70145              </td><td>70145              </td><td>2021-01-01 17:00:00</td><td>17                 </td><td>2021-01-01 16:00:00</td><td>2021               </td><td> 1                 </td><td>16                 </td><td>53                 </td><td>5                  </td><td>...                </td><td>NA                 </td><td>NA                 </td><td>  NA               </td><td>NA                 </td><td>94                 </td><td>50                 </td><td> 2                 </td><td>35                 </td><td> 1                 </td><td>NA                 </td></tr>\n",
       "\t<tr><td>70146              </td><td>70146              </td><td>2021-01-01 18:00:00</td><td>18                 </td><td>2021-01-01 17:00:00</td><td>2021               </td><td> 1                 </td><td>17                 </td><td>53                 </td><td>5                  </td><td>...                </td><td>NA                 </td><td>NA                 </td><td>  NA               </td><td>NA                 </td><td>94                 </td><td>50                 </td><td> 2                 </td><td>35                 </td><td> 1                 </td><td>NA                 </td></tr>\n",
       "\t<tr><td>70147              </td><td>70147              </td><td>2021-01-01 19:00:00</td><td>19                 </td><td>2021-01-01 18:00:00</td><td>2021               </td><td> 1                 </td><td>18                 </td><td>53                 </td><td>5                  </td><td>...                </td><td>NA                 </td><td>NA                 </td><td>  NA               </td><td>NA                 </td><td>94                 </td><td>50                 </td><td> 2                 </td><td>35                 </td><td> 1                 </td><td>NA                 </td></tr>\n",
       "\t<tr><td>70148              </td><td>70148              </td><td>2021-01-01 20:00:00</td><td>20                 </td><td>2021-01-01 19:00:00</td><td>2021               </td><td> 1                 </td><td>19                 </td><td>53                 </td><td>5                  </td><td>...                </td><td>NA                 </td><td>NA                 </td><td>  NA               </td><td>NA                 </td><td>94                 </td><td>50                 </td><td> 2                 </td><td>35                 </td><td> 1                 </td><td>NA                 </td></tr>\n",
       "\t<tr><td>70149              </td><td>70149              </td><td>2021-01-01 21:00:00</td><td>21                 </td><td>2021-01-01 20:00:00</td><td>2021               </td><td> 1                 </td><td>20                 </td><td>53                 </td><td>5                  </td><td>...                </td><td>NA                 </td><td>NA                 </td><td>  NA               </td><td>NA                 </td><td>94                 </td><td>50                 </td><td> 2                 </td><td>35                 </td><td> 1                 </td><td>NA                 </td></tr>\n",
       "\t<tr><td>70150              </td><td>70150              </td><td>2021-01-01 22:00:00</td><td>22                 </td><td>2021-01-01 21:00:00</td><td>2021               </td><td> 1                 </td><td>21                 </td><td>53                 </td><td>5                  </td><td>...                </td><td>NA                 </td><td>NA                 </td><td>  NA               </td><td>NA                 </td><td>94                 </td><td>50                 </td><td> 2                 </td><td>35                 </td><td> 1                 </td><td>NA                 </td></tr>\n",
       "\t<tr><td>70151              </td><td>70151              </td><td>2021-01-01 23:00:00</td><td>23                 </td><td>2021-01-01 22:00:00</td><td>2021               </td><td> 1                 </td><td>22                 </td><td>53                 </td><td>5                  </td><td>...                </td><td>NA                 </td><td>NA                 </td><td>  NA               </td><td>NA                 </td><td>94                 </td><td>50                 </td><td> 2                 </td><td>35                 </td><td> 1                 </td><td>NA                 </td></tr>\n",
       "\t<tr><td>70152              </td><td>70152              </td><td>2021-01-02 00:00:00</td><td> 0                 </td><td>2021-01-01 23:00:00</td><td>2021               </td><td> 1                 </td><td>23                 </td><td>53                 </td><td>5                  </td><td>...                </td><td>NA                 </td><td>NA                 </td><td>  NA               </td><td>NA                 </td><td>94                 </td><td>50                 </td><td> 2                 </td><td>35                 </td><td> 1                 </td><td>NA                 </td></tr>\n",
       "</tbody>\n",
       "</table>\n"
      ],
      "text/latex": [
       "\\begin{tabular}{r|llllllllllllllllllllllllllllllllllllllll}\n",
       " X & Index & Date\\_Heure\\_Locale & Heure\\_Local & Timestamp & Annee & Mois & Heure & Semaine\\_de\\_lannee & Jour\\_de\\_la\\_Semaine & ... & no & no2 & humidite & particules\\_fines & ext\\_pm25 & ext\\_pm10 & ext\\_o3 & ext\\_no2 & ext\\_so2 & ext\\_co\\\\\n",
       "\\hline\n",
       "\t  1                  &  1                  & 2013-01-01 01:00:00 &  1                  & 2013-01-01 00:00:00 & 2013                & 1                   &  0                  & 1                   & 2                   & ...                 & NA                  & NA                  &   NA                & NA                  & NA                  & NA                  & NA                  & NA                  & NA                  & NA                 \\\\\n",
       "\t  2                  &  2                  & 2013-01-01 02:00:00 &  2                  & 2013-01-01 01:00:00 & 2013                & 1                   &  1                  & 1                   & 2                   & ...                 & 23                  & 41                  & 65.6                & 26                  & NA                  & NA                  & NA                  & NA                  & NA                  & NA                 \\\\\n",
       "\t  3                  &  3                  & 2013-01-01 03:00:00 &  3                  & 2013-01-01 02:00:00 & 2013                & 1                   &  2                  & 1                   & 2                   & ...                 & 43                  & 61                  & 65.0                & 18                  & NA                  & NA                  & NA                  & NA                  & NA                  & NA                 \\\\\n",
       "\t  4                  &  4                  & 2013-01-01 04:00:00 &  4                  & 2013-01-01 03:00:00 & 2013                & 1                   &  3                  & 1                   & 2                   & ...                 & 22                  & 52                  & 63.3                & 45                  & NA                  & NA                  & NA                  & NA                  & NA                  & NA                 \\\\\n",
       "\t  5                  &  5                  & 2013-01-01 05:00:00 &  5                  & 2013-01-01 04:00:00 & 2013                & 1                   &  4                  & 1                   & 2                   & ...                 & 27                  & 56                  & 63.7                & 22                  & NA                  & NA                  & NA                  & NA                  & NA                  & NA                 \\\\\n",
       "\t  6                  &  6                  & 2013-01-01 06:00:00 &  6                  & 2013-01-01 05:00:00 & 2013                & 1                   &  5                  & 1                   & 2                   & ...                 & 27                  & 57                  & 63.3                & 15                  & NA                  & NA                  & NA                  & NA                  & NA                  & NA                 \\\\\n",
       "\t  7                  &  7                  & 2013-01-01 07:00:00 &  7                  & 2013-01-01 06:00:00 & 2013                & 1                   &  6                  & 1                   & 2                   & ...                 & 20                  & 50                  & 63.2                & 17                  & NA                  & NA                  & NA                  & NA                  & NA                  & NA                 \\\\\n",
       "\t  8                  &  8                  & 2013-01-01 08:00:00 &  8                  & 2013-01-01 07:00:00 & 2013                & 1                   &  7                  & 1                   & 2                   & ...                 & 24                  & 51                  & 63.7                & 17                  & NA                  & NA                  & NA                  & NA                  & NA                  & NA                 \\\\\n",
       "\t  9                  &  9                  & 2013-01-01 09:00:00 &  9                  & 2013-01-01 08:00:00 & 2013                & 1                   &  8                  & 1                   & 2                   & ...                 & 10                  & 37                  & 64.1                & 20                  & NA                  & NA                  & NA                  & NA                  & NA                  & NA                 \\\\\n",
       "\t 10                  & 10                  & 2013-01-01 10:00:00 & 10                  & 2013-01-01 09:00:00 & 2013                & 1                   &  9                  & 1                   & 2                   & ...                 & 11                  & 40                  & 64.0                & 13                  & NA                  & NA                  & NA                  & NA                  & NA                  & NA                 \\\\\n",
       "\t 11                  & 11                  & 2013-01-01 11:00:00 & 11                  & 2013-01-01 10:00:00 & 2013                & 1                   & 10                  & 1                   & 2                   & ...                 & 11                  & 42                  & 61.7                &  7                  & NA                  & NA                  & NA                  & NA                  & NA                  & NA                 \\\\\n",
       "\t 12                  & 12                  & 2013-01-01 12:00:00 & 12                  & 2013-01-01 11:00:00 & 2013                & 1                   & 11                  & 1                   & 2                   & ...                 & 18                  & 52                  & 58.2                &  8                  & NA                  & NA                  & NA                  & NA                  & NA                  & NA                 \\\\\n",
       "\t 13                  & 13                  & 2013-01-01 13:00:00 & 13                  & 2013-01-01 12:00:00 & 2013                & 1                   & 12                  & 1                   & 2                   & ...                 & 19                  & 58                  & 54.1                &  7                  & NA                  & NA                  & NA                  & NA                  & NA                  & NA                 \\\\\n",
       "\t 14                  & 14                  & 2013-01-01 14:00:00 & 14                  & 2013-01-01 13:00:00 & 2013                & 1                   & 13                  & 1                   & 2                   & ...                 & 15                  & 55                  & 50.4                & NA                  & NA                  & NA                  & NA                  & NA                  & NA                  & NA                 \\\\\n",
       "\t 15                  & 15                  & 2013-01-01 15:00:00 & 15                  & 2013-01-01 14:00:00 & 2013                & 1                   & 14                  & 1                   & 2                   & ...                 & 33                  & 73                  & 48.9                & 18                  & NA                  & NA                  & NA                  & NA                  & NA                  & NA                 \\\\\n",
       "\t 16                  & 16                  & 2013-01-01 16:00:00 & 16                  & 2013-01-01 15:00:00 & 2013                & 1                   & 15                  & 1                   & 2                   & ...                 & 29                  & 72                  & 48.7                & 26                  & NA                  & NA                  & NA                  & NA                  & NA                  & NA                 \\\\\n",
       "\t 17                  & 17                  & 2013-01-01 17:00:00 & 17                  & 2013-01-01 16:00:00 & 2013                & 1                   & 16                  & 1                   & 2                   & ...                 & 35                  & 77                  & 48.4                & 27                  & NA                  & NA                  & NA                  & NA                  & NA                  & NA                 \\\\\n",
       "\t 18                  & 18                  & 2013-01-01 18:00:00 & 18                  & 2013-01-01 17:00:00 & 2013                & 1                   & 17                  & 1                   & 2                   & ...                 & 75                  & 94                  & 51.6                & 46                  & NA                  & NA                  & NA                  & NA                  & NA                  & NA                 \\\\\n",
       "\t 19                  & 19                  & 2013-01-01 19:00:00 & 19                  & 2013-01-01 18:00:00 & 2013                & 1                   & 18                  & 1                   & 2                   & ...                 & 65                  & 94                  & 54.2                & 41                  & NA                  & NA                  & NA                  & NA                  & NA                  & NA                 \\\\\n",
       "\t 20                  & 20                  & 2013-01-01 20:00:00 & 20                  & 2013-01-01 19:00:00 & 2013                & 1                   & 19                  & 1                   & 2                   & ...                 & 72                  & 95                  & 53.9                & 17                  & NA                  & NA                  & NA                  & NA                  & NA                  & NA                 \\\\\n",
       "\t 21                  & 21                  & 2013-01-01 21:00:00 & 21                  & 2013-01-01 20:00:00 & 2013                & 1                   & 20                  & 1                   & 2                   & ...                 & 34                  & 75                  & 52.5                & 21                  & NA                  & NA                  & NA                  & NA                  & NA                  & NA                 \\\\\n",
       "\t 22                  & 22                  & 2013-01-01 22:00:00 & 22                  & 2013-01-01 21:00:00 & 2013                & 1                   & 21                  & 1                   & 2                   & ...                 & 37                  & 71                  & 51.9                & 22                  & NA                  & NA                  & NA                  & NA                  & NA                  & NA                 \\\\\n",
       "\t 23                  & 23                  & 2013-01-01 23:00:00 & 23                  & 2013-01-01 22:00:00 & 2013                & 1                   & 22                  & 1                   & 2                   & ...                 & 24                  & 66                  & 51.8                & 22                  & NA                  & NA                  & NA                  & NA                  & NA                  & NA                 \\\\\n",
       "\t 24                  & 24                  & 2013-01-02 00:00:00 &  0                  & 2013-01-01 23:00:00 & 2013                & 1                   & 23                  & 1                   & 2                   & ...                 & 22                  & 66                  & 51.7                & 27                  & NA                  & NA                  & NA                  & NA                  & NA                  & NA                 \\\\\n",
       "\t 25                  & 25                  & 2013-01-02 01:00:00 &  1                  & 2013-01-02 00:00:00 & 2013                & 1                   &  0                  & 1                   & 3                   & ...                 & 20                  & 60                  & 50.9                & 25                  & NA                  & NA                  & NA                  & NA                  & NA                  & NA                 \\\\\n",
       "\t 26                  & 26                  & 2013-01-02 02:00:00 &  2                  & 2013-01-02 01:00:00 & 2013                & 1                   &  1                  & 1                   & 3                   & ...                 & 17                  & 54                  & 49.0                & 23                  & NA                  & NA                  & NA                  & NA                  & NA                  & NA                 \\\\\n",
       "\t 27                  & 27                  & 2013-01-02 03:00:00 &  3                  & 2013-01-02 02:00:00 & 2013                & 1                   &  2                  & 1                   & 3                   & ...                 & 12                  & 47                  & 48.6                & 18                  & NA                  & NA                  & NA                  & NA                  & NA                  & NA                 \\\\\n",
       "\t 28                  & 28                  & 2013-01-02 04:00:00 &  4                  & 2013-01-02 03:00:00 & 2013                & 1                   &  3                  & 1                   & 3                   & ...                 & 11                  & 45                  & 48.8                & 16                  & NA                  & NA                  & NA                  & NA                  & NA                  & NA                 \\\\\n",
       "\t 29                  & 29                  & 2013-01-02 05:00:00 &  5                  & 2013-01-02 04:00:00 & 2013                & 1                   &  4                  & 1                   & 3                   & ...                 &  8                  & 42                  & 48.9                & 13                  & NA                  & NA                  & NA                  & NA                  & NA                  & NA                 \\\\\n",
       "\t 30                  & 30                  & 2013-01-02 06:00:00 &  6                  & 2013-01-02 05:00:00 & 2013                & 1                   &  5                  & 1                   & 3                   & ...                 &  9                  & 43                  & 50.2                & 16                  & NA                  & NA                  & NA                  & NA                  & NA                  & NA                 \\\\\n",
       "\t ... & ... & ... & ... & ... & ... & ... & ... & ... & ... &     & ... & ... & ... & ... & ... & ... & ... & ... & ... & ...\\\\\n",
       "\t 70123               & 70123               & 2020-12-31 19:00:00 & 19                  & 2020-12-31 18:00:00 & 2020                & 12                  & 18                  & 53                  & 4                   & ...                 & 18                  & 42                  & 49.8                & 92                  & 61                  & 39                  & 10                  & 31                  & NA                  & NA                 \\\\\n",
       "\t 70124               & 70124               & 2020-12-31 20:00:00 & 20                  & 2020-12-31 19:00:00 & 2020                & 12                  & 19                  & 53                  & 4                   & ...                 & 31                  & 51                  & 50.7                & 94                  & 61                  & 39                  & 10                  & 31                  & NA                  & NA                 \\\\\n",
       "\t 70125               & 70125               & 2020-12-31 21:00:00 & 21                  & 2020-12-31 20:00:00 & 2020                & 12                  & 20                  & 53                  & 4                   & ...                 & 22                  & 47                  & 51.3                & 85                  & 61                  & 39                  & 10                  & 31                  & NA                  & NA                 \\\\\n",
       "\t 70126               & 70126               & 2020-12-31 22:00:00 & 22                  & 2020-12-31 21:00:00 & 2020                & 12                  & 21                  & 53                  & 4                   & ...                 & 43                  & 58                  & 46.6                & 70                  & 61                  & 39                  & 10                  & 31                  & NA                  & NA                 \\\\\n",
       "\t 70127               & 70127               & 2020-12-31 23:00:00 & 23                  & 2020-12-31 22:00:00 & 2020                & 12                  & 22                  & 53                  & 4                   & ...                 & 15                  & 50                  & 45.2                & 46                  & 61                  & 39                  & 10                  & 31                  & NA                  & NA                 \\\\\n",
       "\t 70128               & 70128               & 2021-01-01 00:00:00 &  0                  & 2020-12-31 23:00:00 & 2020                & 12                  & 23                  & 53                  & 4                   & ...                 & 14                  & 46                  & 44.4                & 44                  & 61                  & 39                  & 10                  & 31                  & NA                  & NA                 \\\\\n",
       "\t 70129               & 70129               & 2021-01-01 01:00:00 &  1                  & 2021-01-01 00:00:00 & 2021                &  1                  &  0                  & 53                  & 5                   & ...                 & NA                  & NA                  &   NA                & NA                  & 94                  & 50                  &  2                  & 35                  &  1                  & NA                 \\\\\n",
       "\t 70130               & 70130               & 2021-01-01 02:00:00 &  2                  & 2021-01-01 01:00:00 & 2021                &  1                  &  1                  & 53                  & 5                   & ...                 & NA                  & NA                  &   NA                & NA                  & 94                  & 50                  &  2                  & 35                  &  1                  & NA                 \\\\\n",
       "\t 70131               & 70131               & 2021-01-01 03:00:00 &  3                  & 2021-01-01 02:00:00 & 2021                &  1                  &  2                  & 53                  & 5                   & ...                 & NA                  & NA                  &   NA                & NA                  & 94                  & 50                  &  2                  & 35                  &  1                  & NA                 \\\\\n",
       "\t 70132               & 70132               & 2021-01-01 04:00:00 &  4                  & 2021-01-01 03:00:00 & 2021                &  1                  &  3                  & 53                  & 5                   & ...                 & NA                  & NA                  &   NA                & NA                  & 94                  & 50                  &  2                  & 35                  &  1                  & NA                 \\\\\n",
       "\t 70133               & 70133               & 2021-01-01 05:00:00 &  5                  & 2021-01-01 04:00:00 & 2021                &  1                  &  4                  & 53                  & 5                   & ...                 & NA                  & NA                  &   NA                & NA                  & 94                  & 50                  &  2                  & 35                  &  1                  & NA                 \\\\\n",
       "\t 70134               & 70134               & 2021-01-01 06:00:00 &  6                  & 2021-01-01 05:00:00 & 2021                &  1                  &  5                  & 53                  & 5                   & ...                 & NA                  & NA                  &   NA                & NA                  & 94                  & 50                  &  2                  & 35                  &  1                  & NA                 \\\\\n",
       "\t 70135               & 70135               & 2021-01-01 07:00:00 &  7                  & 2021-01-01 06:00:00 & 2021                &  1                  &  6                  & 53                  & 5                   & ...                 & NA                  & NA                  &   NA                & NA                  & 94                  & 50                  &  2                  & 35                  &  1                  & NA                 \\\\\n",
       "\t 70136               & 70136               & 2021-01-01 08:00:00 &  8                  & 2021-01-01 07:00:00 & 2021                &  1                  &  7                  & 53                  & 5                   & ...                 & NA                  & NA                  &   NA                & NA                  & 94                  & 50                  &  2                  & 35                  &  1                  & NA                 \\\\\n",
       "\t 70137               & 70137               & 2021-01-01 09:00:00 &  9                  & 2021-01-01 08:00:00 & 2021                &  1                  &  8                  & 53                  & 5                   & ...                 & NA                  & NA                  &   NA                & NA                  & 94                  & 50                  &  2                  & 35                  &  1                  & NA                 \\\\\n",
       "\t 70138               & 70138               & 2021-01-01 10:00:00 & 10                  & 2021-01-01 09:00:00 & 2021                &  1                  &  9                  & 53                  & 5                   & ...                 & NA                  & NA                  &   NA                & NA                  & 94                  & 50                  &  2                  & 35                  &  1                  & NA                 \\\\\n",
       "\t 70139               & 70139               & 2021-01-01 11:00:00 & 11                  & 2021-01-01 10:00:00 & 2021                &  1                  & 10                  & 53                  & 5                   & ...                 & NA                  & NA                  &   NA                & NA                  & 94                  & 50                  &  2                  & 35                  &  1                  & NA                 \\\\\n",
       "\t 70140               & 70140               & 2021-01-01 12:00:00 & 12                  & 2021-01-01 11:00:00 & 2021                &  1                  & 11                  & 53                  & 5                   & ...                 & NA                  & NA                  &   NA                & NA                  & 94                  & 50                  &  2                  & 35                  &  1                  & NA                 \\\\\n",
       "\t 70141               & 70141               & 2021-01-01 13:00:00 & 13                  & 2021-01-01 12:00:00 & 2021                &  1                  & 12                  & 53                  & 5                   & ...                 & NA                  & NA                  &   NA                & NA                  & 94                  & 50                  &  2                  & 35                  &  1                  & NA                 \\\\\n",
       "\t 70142               & 70142               & 2021-01-01 14:00:00 & 14                  & 2021-01-01 13:00:00 & 2021                &  1                  & 13                  & 53                  & 5                   & ...                 & NA                  & NA                  &   NA                & NA                  & 94                  & 50                  &  2                  & 35                  &  1                  & NA                 \\\\\n",
       "\t 70143               & 70143               & 2021-01-01 15:00:00 & 15                  & 2021-01-01 14:00:00 & 2021                &  1                  & 14                  & 53                  & 5                   & ...                 & NA                  & NA                  &   NA                & NA                  & 94                  & 50                  &  2                  & 35                  &  1                  & NA                 \\\\\n",
       "\t 70144               & 70144               & 2021-01-01 16:00:00 & 16                  & 2021-01-01 15:00:00 & 2021                &  1                  & 15                  & 53                  & 5                   & ...                 & NA                  & NA                  &   NA                & NA                  & 94                  & 50                  &  2                  & 35                  &  1                  & NA                 \\\\\n",
       "\t 70145               & 70145               & 2021-01-01 17:00:00 & 17                  & 2021-01-01 16:00:00 & 2021                &  1                  & 16                  & 53                  & 5                   & ...                 & NA                  & NA                  &   NA                & NA                  & 94                  & 50                  &  2                  & 35                  &  1                  & NA                 \\\\\n",
       "\t 70146               & 70146               & 2021-01-01 18:00:00 & 18                  & 2021-01-01 17:00:00 & 2021                &  1                  & 17                  & 53                  & 5                   & ...                 & NA                  & NA                  &   NA                & NA                  & 94                  & 50                  &  2                  & 35                  &  1                  & NA                 \\\\\n",
       "\t 70147               & 70147               & 2021-01-01 19:00:00 & 19                  & 2021-01-01 18:00:00 & 2021                &  1                  & 18                  & 53                  & 5                   & ...                 & NA                  & NA                  &   NA                & NA                  & 94                  & 50                  &  2                  & 35                  &  1                  & NA                 \\\\\n",
       "\t 70148               & 70148               & 2021-01-01 20:00:00 & 20                  & 2021-01-01 19:00:00 & 2021                &  1                  & 19                  & 53                  & 5                   & ...                 & NA                  & NA                  &   NA                & NA                  & 94                  & 50                  &  2                  & 35                  &  1                  & NA                 \\\\\n",
       "\t 70149               & 70149               & 2021-01-01 21:00:00 & 21                  & 2021-01-01 20:00:00 & 2021                &  1                  & 20                  & 53                  & 5                   & ...                 & NA                  & NA                  &   NA                & NA                  & 94                  & 50                  &  2                  & 35                  &  1                  & NA                 \\\\\n",
       "\t 70150               & 70150               & 2021-01-01 22:00:00 & 22                  & 2021-01-01 21:00:00 & 2021                &  1                  & 21                  & 53                  & 5                   & ...                 & NA                  & NA                  &   NA                & NA                  & 94                  & 50                  &  2                  & 35                  &  1                  & NA                 \\\\\n",
       "\t 70151               & 70151               & 2021-01-01 23:00:00 & 23                  & 2021-01-01 22:00:00 & 2021                &  1                  & 22                  & 53                  & 5                   & ...                 & NA                  & NA                  &   NA                & NA                  & 94                  & 50                  &  2                  & 35                  &  1                  & NA                 \\\\\n",
       "\t 70152               & 70152               & 2021-01-02 00:00:00 &  0                  & 2021-01-01 23:00:00 & 2021                &  1                  & 23                  & 53                  & 5                   & ...                 & NA                  & NA                  &   NA                & NA                  & 94                  & 50                  &  2                  & 35                  &  1                  & NA                 \\\\\n",
       "\\end{tabular}\n"
      ],
      "text/markdown": [
       "\n",
       "| X | Index | Date_Heure_Locale | Heure_Local | Timestamp | Annee | Mois | Heure | Semaine_de_lannee | Jour_de_la_Semaine | ... | no | no2 | humidite | particules_fines | ext_pm25 | ext_pm10 | ext_o3 | ext_no2 | ext_so2 | ext_co |\n",
       "|---|---|---|---|---|---|---|---|---|---|---|---|---|---|---|---|---|---|---|---|---|\n",
       "|  1                  |  1                  | 2013-01-01 01:00:00 |  1                  | 2013-01-01 00:00:00 | 2013                | 1                   |  0                  | 1                   | 2                   | ...                 | NA                  | NA                  |   NA                | NA                  | NA                  | NA                  | NA                  | NA                  | NA                  | NA                  |\n",
       "|  2                  |  2                  | 2013-01-01 02:00:00 |  2                  | 2013-01-01 01:00:00 | 2013                | 1                   |  1                  | 1                   | 2                   | ...                 | 23                  | 41                  | 65.6                | 26                  | NA                  | NA                  | NA                  | NA                  | NA                  | NA                  |\n",
       "|  3                  |  3                  | 2013-01-01 03:00:00 |  3                  | 2013-01-01 02:00:00 | 2013                | 1                   |  2                  | 1                   | 2                   | ...                 | 43                  | 61                  | 65.0                | 18                  | NA                  | NA                  | NA                  | NA                  | NA                  | NA                  |\n",
       "|  4                  |  4                  | 2013-01-01 04:00:00 |  4                  | 2013-01-01 03:00:00 | 2013                | 1                   |  3                  | 1                   | 2                   | ...                 | 22                  | 52                  | 63.3                | 45                  | NA                  | NA                  | NA                  | NA                  | NA                  | NA                  |\n",
       "|  5                  |  5                  | 2013-01-01 05:00:00 |  5                  | 2013-01-01 04:00:00 | 2013                | 1                   |  4                  | 1                   | 2                   | ...                 | 27                  | 56                  | 63.7                | 22                  | NA                  | NA                  | NA                  | NA                  | NA                  | NA                  |\n",
       "|  6                  |  6                  | 2013-01-01 06:00:00 |  6                  | 2013-01-01 05:00:00 | 2013                | 1                   |  5                  | 1                   | 2                   | ...                 | 27                  | 57                  | 63.3                | 15                  | NA                  | NA                  | NA                  | NA                  | NA                  | NA                  |\n",
       "|  7                  |  7                  | 2013-01-01 07:00:00 |  7                  | 2013-01-01 06:00:00 | 2013                | 1                   |  6                  | 1                   | 2                   | ...                 | 20                  | 50                  | 63.2                | 17                  | NA                  | NA                  | NA                  | NA                  | NA                  | NA                  |\n",
       "|  8                  |  8                  | 2013-01-01 08:00:00 |  8                  | 2013-01-01 07:00:00 | 2013                | 1                   |  7                  | 1                   | 2                   | ...                 | 24                  | 51                  | 63.7                | 17                  | NA                  | NA                  | NA                  | NA                  | NA                  | NA                  |\n",
       "|  9                  |  9                  | 2013-01-01 09:00:00 |  9                  | 2013-01-01 08:00:00 | 2013                | 1                   |  8                  | 1                   | 2                   | ...                 | 10                  | 37                  | 64.1                | 20                  | NA                  | NA                  | NA                  | NA                  | NA                  | NA                  |\n",
       "| 10                  | 10                  | 2013-01-01 10:00:00 | 10                  | 2013-01-01 09:00:00 | 2013                | 1                   |  9                  | 1                   | 2                   | ...                 | 11                  | 40                  | 64.0                | 13                  | NA                  | NA                  | NA                  | NA                  | NA                  | NA                  |\n",
       "| 11                  | 11                  | 2013-01-01 11:00:00 | 11                  | 2013-01-01 10:00:00 | 2013                | 1                   | 10                  | 1                   | 2                   | ...                 | 11                  | 42                  | 61.7                |  7                  | NA                  | NA                  | NA                  | NA                  | NA                  | NA                  |\n",
       "| 12                  | 12                  | 2013-01-01 12:00:00 | 12                  | 2013-01-01 11:00:00 | 2013                | 1                   | 11                  | 1                   | 2                   | ...                 | 18                  | 52                  | 58.2                |  8                  | NA                  | NA                  | NA                  | NA                  | NA                  | NA                  |\n",
       "| 13                  | 13                  | 2013-01-01 13:00:00 | 13                  | 2013-01-01 12:00:00 | 2013                | 1                   | 12                  | 1                   | 2                   | ...                 | 19                  | 58                  | 54.1                |  7                  | NA                  | NA                  | NA                  | NA                  | NA                  | NA                  |\n",
       "| 14                  | 14                  | 2013-01-01 14:00:00 | 14                  | 2013-01-01 13:00:00 | 2013                | 1                   | 13                  | 1                   | 2                   | ...                 | 15                  | 55                  | 50.4                | NA                  | NA                  | NA                  | NA                  | NA                  | NA                  | NA                  |\n",
       "| 15                  | 15                  | 2013-01-01 15:00:00 | 15                  | 2013-01-01 14:00:00 | 2013                | 1                   | 14                  | 1                   | 2                   | ...                 | 33                  | 73                  | 48.9                | 18                  | NA                  | NA                  | NA                  | NA                  | NA                  | NA                  |\n",
       "| 16                  | 16                  | 2013-01-01 16:00:00 | 16                  | 2013-01-01 15:00:00 | 2013                | 1                   | 15                  | 1                   | 2                   | ...                 | 29                  | 72                  | 48.7                | 26                  | NA                  | NA                  | NA                  | NA                  | NA                  | NA                  |\n",
       "| 17                  | 17                  | 2013-01-01 17:00:00 | 17                  | 2013-01-01 16:00:00 | 2013                | 1                   | 16                  | 1                   | 2                   | ...                 | 35                  | 77                  | 48.4                | 27                  | NA                  | NA                  | NA                  | NA                  | NA                  | NA                  |\n",
       "| 18                  | 18                  | 2013-01-01 18:00:00 | 18                  | 2013-01-01 17:00:00 | 2013                | 1                   | 17                  | 1                   | 2                   | ...                 | 75                  | 94                  | 51.6                | 46                  | NA                  | NA                  | NA                  | NA                  | NA                  | NA                  |\n",
       "| 19                  | 19                  | 2013-01-01 19:00:00 | 19                  | 2013-01-01 18:00:00 | 2013                | 1                   | 18                  | 1                   | 2                   | ...                 | 65                  | 94                  | 54.2                | 41                  | NA                  | NA                  | NA                  | NA                  | NA                  | NA                  |\n",
       "| 20                  | 20                  | 2013-01-01 20:00:00 | 20                  | 2013-01-01 19:00:00 | 2013                | 1                   | 19                  | 1                   | 2                   | ...                 | 72                  | 95                  | 53.9                | 17                  | NA                  | NA                  | NA                  | NA                  | NA                  | NA                  |\n",
       "| 21                  | 21                  | 2013-01-01 21:00:00 | 21                  | 2013-01-01 20:00:00 | 2013                | 1                   | 20                  | 1                   | 2                   | ...                 | 34                  | 75                  | 52.5                | 21                  | NA                  | NA                  | NA                  | NA                  | NA                  | NA                  |\n",
       "| 22                  | 22                  | 2013-01-01 22:00:00 | 22                  | 2013-01-01 21:00:00 | 2013                | 1                   | 21                  | 1                   | 2                   | ...                 | 37                  | 71                  | 51.9                | 22                  | NA                  | NA                  | NA                  | NA                  | NA                  | NA                  |\n",
       "| 23                  | 23                  | 2013-01-01 23:00:00 | 23                  | 2013-01-01 22:00:00 | 2013                | 1                   | 22                  | 1                   | 2                   | ...                 | 24                  | 66                  | 51.8                | 22                  | NA                  | NA                  | NA                  | NA                  | NA                  | NA                  |\n",
       "| 24                  | 24                  | 2013-01-02 00:00:00 |  0                  | 2013-01-01 23:00:00 | 2013                | 1                   | 23                  | 1                   | 2                   | ...                 | 22                  | 66                  | 51.7                | 27                  | NA                  | NA                  | NA                  | NA                  | NA                  | NA                  |\n",
       "| 25                  | 25                  | 2013-01-02 01:00:00 |  1                  | 2013-01-02 00:00:00 | 2013                | 1                   |  0                  | 1                   | 3                   | ...                 | 20                  | 60                  | 50.9                | 25                  | NA                  | NA                  | NA                  | NA                  | NA                  | NA                  |\n",
       "| 26                  | 26                  | 2013-01-02 02:00:00 |  2                  | 2013-01-02 01:00:00 | 2013                | 1                   |  1                  | 1                   | 3                   | ...                 | 17                  | 54                  | 49.0                | 23                  | NA                  | NA                  | NA                  | NA                  | NA                  | NA                  |\n",
       "| 27                  | 27                  | 2013-01-02 03:00:00 |  3                  | 2013-01-02 02:00:00 | 2013                | 1                   |  2                  | 1                   | 3                   | ...                 | 12                  | 47                  | 48.6                | 18                  | NA                  | NA                  | NA                  | NA                  | NA                  | NA                  |\n",
       "| 28                  | 28                  | 2013-01-02 04:00:00 |  4                  | 2013-01-02 03:00:00 | 2013                | 1                   |  3                  | 1                   | 3                   | ...                 | 11                  | 45                  | 48.8                | 16                  | NA                  | NA                  | NA                  | NA                  | NA                  | NA                  |\n",
       "| 29                  | 29                  | 2013-01-02 05:00:00 |  5                  | 2013-01-02 04:00:00 | 2013                | 1                   |  4                  | 1                   | 3                   | ...                 |  8                  | 42                  | 48.9                | 13                  | NA                  | NA                  | NA                  | NA                  | NA                  | NA                  |\n",
       "| 30                  | 30                  | 2013-01-02 06:00:00 |  6                  | 2013-01-02 05:00:00 | 2013                | 1                   |  5                  | 1                   | 3                   | ...                 |  9                  | 43                  | 50.2                | 16                  | NA                  | NA                  | NA                  | NA                  | NA                  | NA                  |\n",
       "| ... | ... | ... | ... | ... | ... | ... | ... | ... | ... |     | ... | ... | ... | ... | ... | ... | ... | ... | ... | ... |\n",
       "| 70123               | 70123               | 2020-12-31 19:00:00 | 19                  | 2020-12-31 18:00:00 | 2020                | 12                  | 18                  | 53                  | 4                   | ...                 | 18                  | 42                  | 49.8                | 92                  | 61                  | 39                  | 10                  | 31                  | NA                  | NA                  |\n",
       "| 70124               | 70124               | 2020-12-31 20:00:00 | 20                  | 2020-12-31 19:00:00 | 2020                | 12                  | 19                  | 53                  | 4                   | ...                 | 31                  | 51                  | 50.7                | 94                  | 61                  | 39                  | 10                  | 31                  | NA                  | NA                  |\n",
       "| 70125               | 70125               | 2020-12-31 21:00:00 | 21                  | 2020-12-31 20:00:00 | 2020                | 12                  | 20                  | 53                  | 4                   | ...                 | 22                  | 47                  | 51.3                | 85                  | 61                  | 39                  | 10                  | 31                  | NA                  | NA                  |\n",
       "| 70126               | 70126               | 2020-12-31 22:00:00 | 22                  | 2020-12-31 21:00:00 | 2020                | 12                  | 21                  | 53                  | 4                   | ...                 | 43                  | 58                  | 46.6                | 70                  | 61                  | 39                  | 10                  | 31                  | NA                  | NA                  |\n",
       "| 70127               | 70127               | 2020-12-31 23:00:00 | 23                  | 2020-12-31 22:00:00 | 2020                | 12                  | 22                  | 53                  | 4                   | ...                 | 15                  | 50                  | 45.2                | 46                  | 61                  | 39                  | 10                  | 31                  | NA                  | NA                  |\n",
       "| 70128               | 70128               | 2021-01-01 00:00:00 |  0                  | 2020-12-31 23:00:00 | 2020                | 12                  | 23                  | 53                  | 4                   | ...                 | 14                  | 46                  | 44.4                | 44                  | 61                  | 39                  | 10                  | 31                  | NA                  | NA                  |\n",
       "| 70129               | 70129               | 2021-01-01 01:00:00 |  1                  | 2021-01-01 00:00:00 | 2021                |  1                  |  0                  | 53                  | 5                   | ...                 | NA                  | NA                  |   NA                | NA                  | 94                  | 50                  |  2                  | 35                  |  1                  | NA                  |\n",
       "| 70130               | 70130               | 2021-01-01 02:00:00 |  2                  | 2021-01-01 01:00:00 | 2021                |  1                  |  1                  | 53                  | 5                   | ...                 | NA                  | NA                  |   NA                | NA                  | 94                  | 50                  |  2                  | 35                  |  1                  | NA                  |\n",
       "| 70131               | 70131               | 2021-01-01 03:00:00 |  3                  | 2021-01-01 02:00:00 | 2021                |  1                  |  2                  | 53                  | 5                   | ...                 | NA                  | NA                  |   NA                | NA                  | 94                  | 50                  |  2                  | 35                  |  1                  | NA                  |\n",
       "| 70132               | 70132               | 2021-01-01 04:00:00 |  4                  | 2021-01-01 03:00:00 | 2021                |  1                  |  3                  | 53                  | 5                   | ...                 | NA                  | NA                  |   NA                | NA                  | 94                  | 50                  |  2                  | 35                  |  1                  | NA                  |\n",
       "| 70133               | 70133               | 2021-01-01 05:00:00 |  5                  | 2021-01-01 04:00:00 | 2021                |  1                  |  4                  | 53                  | 5                   | ...                 | NA                  | NA                  |   NA                | NA                  | 94                  | 50                  |  2                  | 35                  |  1                  | NA                  |\n",
       "| 70134               | 70134               | 2021-01-01 06:00:00 |  6                  | 2021-01-01 05:00:00 | 2021                |  1                  |  5                  | 53                  | 5                   | ...                 | NA                  | NA                  |   NA                | NA                  | 94                  | 50                  |  2                  | 35                  |  1                  | NA                  |\n",
       "| 70135               | 70135               | 2021-01-01 07:00:00 |  7                  | 2021-01-01 06:00:00 | 2021                |  1                  |  6                  | 53                  | 5                   | ...                 | NA                  | NA                  |   NA                | NA                  | 94                  | 50                  |  2                  | 35                  |  1                  | NA                  |\n",
       "| 70136               | 70136               | 2021-01-01 08:00:00 |  8                  | 2021-01-01 07:00:00 | 2021                |  1                  |  7                  | 53                  | 5                   | ...                 | NA                  | NA                  |   NA                | NA                  | 94                  | 50                  |  2                  | 35                  |  1                  | NA                  |\n",
       "| 70137               | 70137               | 2021-01-01 09:00:00 |  9                  | 2021-01-01 08:00:00 | 2021                |  1                  |  8                  | 53                  | 5                   | ...                 | NA                  | NA                  |   NA                | NA                  | 94                  | 50                  |  2                  | 35                  |  1                  | NA                  |\n",
       "| 70138               | 70138               | 2021-01-01 10:00:00 | 10                  | 2021-01-01 09:00:00 | 2021                |  1                  |  9                  | 53                  | 5                   | ...                 | NA                  | NA                  |   NA                | NA                  | 94                  | 50                  |  2                  | 35                  |  1                  | NA                  |\n",
       "| 70139               | 70139               | 2021-01-01 11:00:00 | 11                  | 2021-01-01 10:00:00 | 2021                |  1                  | 10                  | 53                  | 5                   | ...                 | NA                  | NA                  |   NA                | NA                  | 94                  | 50                  |  2                  | 35                  |  1                  | NA                  |\n",
       "| 70140               | 70140               | 2021-01-01 12:00:00 | 12                  | 2021-01-01 11:00:00 | 2021                |  1                  | 11                  | 53                  | 5                   | ...                 | NA                  | NA                  |   NA                | NA                  | 94                  | 50                  |  2                  | 35                  |  1                  | NA                  |\n",
       "| 70141               | 70141               | 2021-01-01 13:00:00 | 13                  | 2021-01-01 12:00:00 | 2021                |  1                  | 12                  | 53                  | 5                   | ...                 | NA                  | NA                  |   NA                | NA                  | 94                  | 50                  |  2                  | 35                  |  1                  | NA                  |\n",
       "| 70142               | 70142               | 2021-01-01 14:00:00 | 14                  | 2021-01-01 13:00:00 | 2021                |  1                  | 13                  | 53                  | 5                   | ...                 | NA                  | NA                  |   NA                | NA                  | 94                  | 50                  |  2                  | 35                  |  1                  | NA                  |\n",
       "| 70143               | 70143               | 2021-01-01 15:00:00 | 15                  | 2021-01-01 14:00:00 | 2021                |  1                  | 14                  | 53                  | 5                   | ...                 | NA                  | NA                  |   NA                | NA                  | 94                  | 50                  |  2                  | 35                  |  1                  | NA                  |\n",
       "| 70144               | 70144               | 2021-01-01 16:00:00 | 16                  | 2021-01-01 15:00:00 | 2021                |  1                  | 15                  | 53                  | 5                   | ...                 | NA                  | NA                  |   NA                | NA                  | 94                  | 50                  |  2                  | 35                  |  1                  | NA                  |\n",
       "| 70145               | 70145               | 2021-01-01 17:00:00 | 17                  | 2021-01-01 16:00:00 | 2021                |  1                  | 16                  | 53                  | 5                   | ...                 | NA                  | NA                  |   NA                | NA                  | 94                  | 50                  |  2                  | 35                  |  1                  | NA                  |\n",
       "| 70146               | 70146               | 2021-01-01 18:00:00 | 18                  | 2021-01-01 17:00:00 | 2021                |  1                  | 17                  | 53                  | 5                   | ...                 | NA                  | NA                  |   NA                | NA                  | 94                  | 50                  |  2                  | 35                  |  1                  | NA                  |\n",
       "| 70147               | 70147               | 2021-01-01 19:00:00 | 19                  | 2021-01-01 18:00:00 | 2021                |  1                  | 18                  | 53                  | 5                   | ...                 | NA                  | NA                  |   NA                | NA                  | 94                  | 50                  |  2                  | 35                  |  1                  | NA                  |\n",
       "| 70148               | 70148               | 2021-01-01 20:00:00 | 20                  | 2021-01-01 19:00:00 | 2021                |  1                  | 19                  | 53                  | 5                   | ...                 | NA                  | NA                  |   NA                | NA                  | 94                  | 50                  |  2                  | 35                  |  1                  | NA                  |\n",
       "| 70149               | 70149               | 2021-01-01 21:00:00 | 21                  | 2021-01-01 20:00:00 | 2021                |  1                  | 20                  | 53                  | 5                   | ...                 | NA                  | NA                  |   NA                | NA                  | 94                  | 50                  |  2                  | 35                  |  1                  | NA                  |\n",
       "| 70150               | 70150               | 2021-01-01 22:00:00 | 22                  | 2021-01-01 21:00:00 | 2021                |  1                  | 21                  | 53                  | 5                   | ...                 | NA                  | NA                  |   NA                | NA                  | 94                  | 50                  |  2                  | 35                  |  1                  | NA                  |\n",
       "| 70151               | 70151               | 2021-01-01 23:00:00 | 23                  | 2021-01-01 22:00:00 | 2021                |  1                  | 22                  | 53                  | 5                   | ...                 | NA                  | NA                  |   NA                | NA                  | 94                  | 50                  |  2                  | 35                  |  1                  | NA                  |\n",
       "| 70152               | 70152               | 2021-01-02 00:00:00 |  0                  | 2021-01-01 23:00:00 | 2021                |  1                  | 23                  | 53                  | 5                   | ...                 | NA                  | NA                  |   NA                | NA                  | 94                  | 50                  |  2                  | 35                  |  1                  | NA                  |\n",
       "\n"
      ],
      "text/plain": [
       "      X     Index Date_Heure_Locale   Heure_Local Timestamp           Annee\n",
       "1      1     1    2013-01-01 01:00:00  1          2013-01-01 00:00:00 2013 \n",
       "2      2     2    2013-01-01 02:00:00  2          2013-01-01 01:00:00 2013 \n",
       "3      3     3    2013-01-01 03:00:00  3          2013-01-01 02:00:00 2013 \n",
       "4      4     4    2013-01-01 04:00:00  4          2013-01-01 03:00:00 2013 \n",
       "5      5     5    2013-01-01 05:00:00  5          2013-01-01 04:00:00 2013 \n",
       "6      6     6    2013-01-01 06:00:00  6          2013-01-01 05:00:00 2013 \n",
       "7      7     7    2013-01-01 07:00:00  7          2013-01-01 06:00:00 2013 \n",
       "8      8     8    2013-01-01 08:00:00  8          2013-01-01 07:00:00 2013 \n",
       "9      9     9    2013-01-01 09:00:00  9          2013-01-01 08:00:00 2013 \n",
       "10    10    10    2013-01-01 10:00:00 10          2013-01-01 09:00:00 2013 \n",
       "11    11    11    2013-01-01 11:00:00 11          2013-01-01 10:00:00 2013 \n",
       "12    12    12    2013-01-01 12:00:00 12          2013-01-01 11:00:00 2013 \n",
       "13    13    13    2013-01-01 13:00:00 13          2013-01-01 12:00:00 2013 \n",
       "14    14    14    2013-01-01 14:00:00 14          2013-01-01 13:00:00 2013 \n",
       "15    15    15    2013-01-01 15:00:00 15          2013-01-01 14:00:00 2013 \n",
       "16    16    16    2013-01-01 16:00:00 16          2013-01-01 15:00:00 2013 \n",
       "17    17    17    2013-01-01 17:00:00 17          2013-01-01 16:00:00 2013 \n",
       "18    18    18    2013-01-01 18:00:00 18          2013-01-01 17:00:00 2013 \n",
       "19    19    19    2013-01-01 19:00:00 19          2013-01-01 18:00:00 2013 \n",
       "20    20    20    2013-01-01 20:00:00 20          2013-01-01 19:00:00 2013 \n",
       "21    21    21    2013-01-01 21:00:00 21          2013-01-01 20:00:00 2013 \n",
       "22    22    22    2013-01-01 22:00:00 22          2013-01-01 21:00:00 2013 \n",
       "23    23    23    2013-01-01 23:00:00 23          2013-01-01 22:00:00 2013 \n",
       "24    24    24    2013-01-02 00:00:00  0          2013-01-01 23:00:00 2013 \n",
       "25    25    25    2013-01-02 01:00:00  1          2013-01-02 00:00:00 2013 \n",
       "26    26    26    2013-01-02 02:00:00  2          2013-01-02 01:00:00 2013 \n",
       "27    27    27    2013-01-02 03:00:00  3          2013-01-02 02:00:00 2013 \n",
       "28    28    28    2013-01-02 04:00:00  4          2013-01-02 03:00:00 2013 \n",
       "29    29    29    2013-01-02 05:00:00  5          2013-01-02 04:00:00 2013 \n",
       "30    30    30    2013-01-02 06:00:00  6          2013-01-02 05:00:00 2013 \n",
       "...   ...   ...   ...                 ...         ...                 ...  \n",
       "70123 70123 70123 2020-12-31 19:00:00 19          2020-12-31 18:00:00 2020 \n",
       "70124 70124 70124 2020-12-31 20:00:00 20          2020-12-31 19:00:00 2020 \n",
       "70125 70125 70125 2020-12-31 21:00:00 21          2020-12-31 20:00:00 2020 \n",
       "70126 70126 70126 2020-12-31 22:00:00 22          2020-12-31 21:00:00 2020 \n",
       "70127 70127 70127 2020-12-31 23:00:00 23          2020-12-31 22:00:00 2020 \n",
       "70128 70128 70128 2021-01-01 00:00:00  0          2020-12-31 23:00:00 2020 \n",
       "70129 70129 70129 2021-01-01 01:00:00  1          2021-01-01 00:00:00 2021 \n",
       "70130 70130 70130 2021-01-01 02:00:00  2          2021-01-01 01:00:00 2021 \n",
       "70131 70131 70131 2021-01-01 03:00:00  3          2021-01-01 02:00:00 2021 \n",
       "70132 70132 70132 2021-01-01 04:00:00  4          2021-01-01 03:00:00 2021 \n",
       "70133 70133 70133 2021-01-01 05:00:00  5          2021-01-01 04:00:00 2021 \n",
       "70134 70134 70134 2021-01-01 06:00:00  6          2021-01-01 05:00:00 2021 \n",
       "70135 70135 70135 2021-01-01 07:00:00  7          2021-01-01 06:00:00 2021 \n",
       "70136 70136 70136 2021-01-01 08:00:00  8          2021-01-01 07:00:00 2021 \n",
       "70137 70137 70137 2021-01-01 09:00:00  9          2021-01-01 08:00:00 2021 \n",
       "70138 70138 70138 2021-01-01 10:00:00 10          2021-01-01 09:00:00 2021 \n",
       "70139 70139 70139 2021-01-01 11:00:00 11          2021-01-01 10:00:00 2021 \n",
       "70140 70140 70140 2021-01-01 12:00:00 12          2021-01-01 11:00:00 2021 \n",
       "70141 70141 70141 2021-01-01 13:00:00 13          2021-01-01 12:00:00 2021 \n",
       "70142 70142 70142 2021-01-01 14:00:00 14          2021-01-01 13:00:00 2021 \n",
       "70143 70143 70143 2021-01-01 15:00:00 15          2021-01-01 14:00:00 2021 \n",
       "70144 70144 70144 2021-01-01 16:00:00 16          2021-01-01 15:00:00 2021 \n",
       "70145 70145 70145 2021-01-01 17:00:00 17          2021-01-01 16:00:00 2021 \n",
       "70146 70146 70146 2021-01-01 18:00:00 18          2021-01-01 17:00:00 2021 \n",
       "70147 70147 70147 2021-01-01 19:00:00 19          2021-01-01 18:00:00 2021 \n",
       "70148 70148 70148 2021-01-01 20:00:00 20          2021-01-01 19:00:00 2021 \n",
       "70149 70149 70149 2021-01-01 21:00:00 21          2021-01-01 20:00:00 2021 \n",
       "70150 70150 70150 2021-01-01 22:00:00 22          2021-01-01 21:00:00 2021 \n",
       "70151 70151 70151 2021-01-01 23:00:00 23          2021-01-01 22:00:00 2021 \n",
       "70152 70152 70152 2021-01-02 00:00:00  0          2021-01-01 23:00:00 2021 \n",
       "      Mois Heure Semaine_de_lannee Jour_de_la_Semaine ... no  no2 humidite\n",
       "1     1     0    1                 2                  ... NA  NA    NA    \n",
       "2     1     1    1                 2                  ... 23  41  65.6    \n",
       "3     1     2    1                 2                  ... 43  61  65.0    \n",
       "4     1     3    1                 2                  ... 22  52  63.3    \n",
       "5     1     4    1                 2                  ... 27  56  63.7    \n",
       "6     1     5    1                 2                  ... 27  57  63.3    \n",
       "7     1     6    1                 2                  ... 20  50  63.2    \n",
       "8     1     7    1                 2                  ... 24  51  63.7    \n",
       "9     1     8    1                 2                  ... 10  37  64.1    \n",
       "10    1     9    1                 2                  ... 11  40  64.0    \n",
       "11    1    10    1                 2                  ... 11  42  61.7    \n",
       "12    1    11    1                 2                  ... 18  52  58.2    \n",
       "13    1    12    1                 2                  ... 19  58  54.1    \n",
       "14    1    13    1                 2                  ... 15  55  50.4    \n",
       "15    1    14    1                 2                  ... 33  73  48.9    \n",
       "16    1    15    1                 2                  ... 29  72  48.7    \n",
       "17    1    16    1                 2                  ... 35  77  48.4    \n",
       "18    1    17    1                 2                  ... 75  94  51.6    \n",
       "19    1    18    1                 2                  ... 65  94  54.2    \n",
       "20    1    19    1                 2                  ... 72  95  53.9    \n",
       "21    1    20    1                 2                  ... 34  75  52.5    \n",
       "22    1    21    1                 2                  ... 37  71  51.9    \n",
       "23    1    22    1                 2                  ... 24  66  51.8    \n",
       "24    1    23    1                 2                  ... 22  66  51.7    \n",
       "25    1     0    1                 3                  ... 20  60  50.9    \n",
       "26    1     1    1                 3                  ... 17  54  49.0    \n",
       "27    1     2    1                 3                  ... 12  47  48.6    \n",
       "28    1     3    1                 3                  ... 11  45  48.8    \n",
       "29    1     4    1                 3                  ...  8  42  48.9    \n",
       "30    1     5    1                 3                  ...  9  43  50.2    \n",
       "...   ...  ...   ...               ...                    ... ... ...     \n",
       "70123 12   18    53                4                  ... 18  42  49.8    \n",
       "70124 12   19    53                4                  ... 31  51  50.7    \n",
       "70125 12   20    53                4                  ... 22  47  51.3    \n",
       "70126 12   21    53                4                  ... 43  58  46.6    \n",
       "70127 12   22    53                4                  ... 15  50  45.2    \n",
       "70128 12   23    53                4                  ... 14  46  44.4    \n",
       "70129  1    0    53                5                  ... NA  NA    NA    \n",
       "70130  1    1    53                5                  ... NA  NA    NA    \n",
       "70131  1    2    53                5                  ... NA  NA    NA    \n",
       "70132  1    3    53                5                  ... NA  NA    NA    \n",
       "70133  1    4    53                5                  ... NA  NA    NA    \n",
       "70134  1    5    53                5                  ... NA  NA    NA    \n",
       "70135  1    6    53                5                  ... NA  NA    NA    \n",
       "70136  1    7    53                5                  ... NA  NA    NA    \n",
       "70137  1    8    53                5                  ... NA  NA    NA    \n",
       "70138  1    9    53                5                  ... NA  NA    NA    \n",
       "70139  1   10    53                5                  ... NA  NA    NA    \n",
       "70140  1   11    53                5                  ... NA  NA    NA    \n",
       "70141  1   12    53                5                  ... NA  NA    NA    \n",
       "70142  1   13    53                5                  ... NA  NA    NA    \n",
       "70143  1   14    53                5                  ... NA  NA    NA    \n",
       "70144  1   15    53                5                  ... NA  NA    NA    \n",
       "70145  1   16    53                5                  ... NA  NA    NA    \n",
       "70146  1   17    53                5                  ... NA  NA    NA    \n",
       "70147  1   18    53                5                  ... NA  NA    NA    \n",
       "70148  1   19    53                5                  ... NA  NA    NA    \n",
       "70149  1   20    53                5                  ... NA  NA    NA    \n",
       "70150  1   21    53                5                  ... NA  NA    NA    \n",
       "70151  1   22    53                5                  ... NA  NA    NA    \n",
       "70152  1   23    53                5                  ... NA  NA    NA    \n",
       "      particules_fines ext_pm25 ext_pm10 ext_o3 ext_no2 ext_so2 ext_co\n",
       "1     NA               NA       NA       NA     NA      NA      NA    \n",
       "2     26               NA       NA       NA     NA      NA      NA    \n",
       "3     18               NA       NA       NA     NA      NA      NA    \n",
       "4     45               NA       NA       NA     NA      NA      NA    \n",
       "5     22               NA       NA       NA     NA      NA      NA    \n",
       "6     15               NA       NA       NA     NA      NA      NA    \n",
       "7     17               NA       NA       NA     NA      NA      NA    \n",
       "8     17               NA       NA       NA     NA      NA      NA    \n",
       "9     20               NA       NA       NA     NA      NA      NA    \n",
       "10    13               NA       NA       NA     NA      NA      NA    \n",
       "11     7               NA       NA       NA     NA      NA      NA    \n",
       "12     8               NA       NA       NA     NA      NA      NA    \n",
       "13     7               NA       NA       NA     NA      NA      NA    \n",
       "14    NA               NA       NA       NA     NA      NA      NA    \n",
       "15    18               NA       NA       NA     NA      NA      NA    \n",
       "16    26               NA       NA       NA     NA      NA      NA    \n",
       "17    27               NA       NA       NA     NA      NA      NA    \n",
       "18    46               NA       NA       NA     NA      NA      NA    \n",
       "19    41               NA       NA       NA     NA      NA      NA    \n",
       "20    17               NA       NA       NA     NA      NA      NA    \n",
       "21    21               NA       NA       NA     NA      NA      NA    \n",
       "22    22               NA       NA       NA     NA      NA      NA    \n",
       "23    22               NA       NA       NA     NA      NA      NA    \n",
       "24    27               NA       NA       NA     NA      NA      NA    \n",
       "25    25               NA       NA       NA     NA      NA      NA    \n",
       "26    23               NA       NA       NA     NA      NA      NA    \n",
       "27    18               NA       NA       NA     NA      NA      NA    \n",
       "28    16               NA       NA       NA     NA      NA      NA    \n",
       "29    13               NA       NA       NA     NA      NA      NA    \n",
       "30    16               NA       NA       NA     NA      NA      NA    \n",
       "...   ...              ...      ...      ...    ...     ...     ...   \n",
       "70123 92               61       39       10     31      NA      NA    \n",
       "70124 94               61       39       10     31      NA      NA    \n",
       "70125 85               61       39       10     31      NA      NA    \n",
       "70126 70               61       39       10     31      NA      NA    \n",
       "70127 46               61       39       10     31      NA      NA    \n",
       "70128 44               61       39       10     31      NA      NA    \n",
       "70129 NA               94       50        2     35       1      NA    \n",
       "70130 NA               94       50        2     35       1      NA    \n",
       "70131 NA               94       50        2     35       1      NA    \n",
       "70132 NA               94       50        2     35       1      NA    \n",
       "70133 NA               94       50        2     35       1      NA    \n",
       "70134 NA               94       50        2     35       1      NA    \n",
       "70135 NA               94       50        2     35       1      NA    \n",
       "70136 NA               94       50        2     35       1      NA    \n",
       "70137 NA               94       50        2     35       1      NA    \n",
       "70138 NA               94       50        2     35       1      NA    \n",
       "70139 NA               94       50        2     35       1      NA    \n",
       "70140 NA               94       50        2     35       1      NA    \n",
       "70141 NA               94       50        2     35       1      NA    \n",
       "70142 NA               94       50        2     35       1      NA    \n",
       "70143 NA               94       50        2     35       1      NA    \n",
       "70144 NA               94       50        2     35       1      NA    \n",
       "70145 NA               94       50        2     35       1      NA    \n",
       "70146 NA               94       50        2     35       1      NA    \n",
       "70147 NA               94       50        2     35       1      NA    \n",
       "70148 NA               94       50        2     35       1      NA    \n",
       "70149 NA               94       50        2     35       1      NA    \n",
       "70150 NA               94       50        2     35       1      NA    \n",
       "70151 NA               94       50        2     35       1      NA    \n",
       "70152 NA               94       50        2     35       1      NA    "
      ]
     },
     "metadata": {},
     "output_type": "display_data"
    }
   ],
   "source": [
    "df"
   ]
  },
  {
   "cell_type": "markdown",
   "metadata": {},
   "source": [
    "## Exploration des données"
   ]
  },
  {
   "cell_type": "markdown",
   "metadata": {},
   "source": [
    "### Première exploration"
   ]
  },
  {
   "cell_type": "markdown",
   "metadata": {},
   "source": [
    "A première vue"
   ]
  },
  {
   "cell_type": "code",
   "execution_count": 7,
   "metadata": {},
   "outputs": [
    {
     "data": {
      "text/html": [
       "<table>\n",
       "<thead><tr><th scope=col>X</th><th scope=col>Index</th><th scope=col>Date_Heure_Locale</th><th scope=col>Heure_Local</th><th scope=col>Timestamp</th><th scope=col>Annee</th><th scope=col>Mois</th><th scope=col>Heure</th><th scope=col>Semaine_de_lannee</th><th scope=col>Jour_de_la_Semaine</th><th scope=col>...</th><th scope=col>no</th><th scope=col>no2</th><th scope=col>humidite</th><th scope=col>particules_fines</th><th scope=col>ext_pm25</th><th scope=col>ext_pm10</th><th scope=col>ext_o3</th><th scope=col>ext_no2</th><th scope=col>ext_so2</th><th scope=col>ext_co</th></tr></thead>\n",
       "<tbody>\n",
       "\t<tr><td>1                  </td><td>1                  </td><td>2013-01-01 01:00:00</td><td>1                  </td><td>2013-01-01 00:00:00</td><td>2013               </td><td>1                  </td><td>0                  </td><td>1                  </td><td>2                  </td><td>...                </td><td>NA                 </td><td>NA                 </td><td>  NA               </td><td>NA                 </td><td>NA                 </td><td>NA                 </td><td>NA                 </td><td>NA                 </td><td>NA                 </td><td>NA                 </td></tr>\n",
       "\t<tr><td>2                  </td><td>2                  </td><td>2013-01-01 02:00:00</td><td>2                  </td><td>2013-01-01 01:00:00</td><td>2013               </td><td>1                  </td><td>1                  </td><td>1                  </td><td>2                  </td><td>...                </td><td>23                 </td><td>41                 </td><td>65.6               </td><td>26                 </td><td>NA                 </td><td>NA                 </td><td>NA                 </td><td>NA                 </td><td>NA                 </td><td>NA                 </td></tr>\n",
       "\t<tr><td>3                  </td><td>3                  </td><td>2013-01-01 03:00:00</td><td>3                  </td><td>2013-01-01 02:00:00</td><td>2013               </td><td>1                  </td><td>2                  </td><td>1                  </td><td>2                  </td><td>...                </td><td>43                 </td><td>61                 </td><td>65.0               </td><td>18                 </td><td>NA                 </td><td>NA                 </td><td>NA                 </td><td>NA                 </td><td>NA                 </td><td>NA                 </td></tr>\n",
       "\t<tr><td>4                  </td><td>4                  </td><td>2013-01-01 04:00:00</td><td>4                  </td><td>2013-01-01 03:00:00</td><td>2013               </td><td>1                  </td><td>3                  </td><td>1                  </td><td>2                  </td><td>...                </td><td>22                 </td><td>52                 </td><td>63.3               </td><td>45                 </td><td>NA                 </td><td>NA                 </td><td>NA                 </td><td>NA                 </td><td>NA                 </td><td>NA                 </td></tr>\n",
       "\t<tr><td>5                  </td><td>5                  </td><td>2013-01-01 05:00:00</td><td>5                  </td><td>2013-01-01 04:00:00</td><td>2013               </td><td>1                  </td><td>4                  </td><td>1                  </td><td>2                  </td><td>...                </td><td>27                 </td><td>56                 </td><td>63.7               </td><td>22                 </td><td>NA                 </td><td>NA                 </td><td>NA                 </td><td>NA                 </td><td>NA                 </td><td>NA                 </td></tr>\n",
       "\t<tr><td>6                  </td><td>6                  </td><td>2013-01-01 06:00:00</td><td>6                  </td><td>2013-01-01 05:00:00</td><td>2013               </td><td>1                  </td><td>5                  </td><td>1                  </td><td>2                  </td><td>...                </td><td>27                 </td><td>57                 </td><td>63.3               </td><td>15                 </td><td>NA                 </td><td>NA                 </td><td>NA                 </td><td>NA                 </td><td>NA                 </td><td>NA                 </td></tr>\n",
       "</tbody>\n",
       "</table>\n"
      ],
      "text/latex": [
       "\\begin{tabular}{r|llllllllllllllllllllllllllllllllllllllll}\n",
       " X & Index & Date\\_Heure\\_Locale & Heure\\_Local & Timestamp & Annee & Mois & Heure & Semaine\\_de\\_lannee & Jour\\_de\\_la\\_Semaine & ... & no & no2 & humidite & particules\\_fines & ext\\_pm25 & ext\\_pm10 & ext\\_o3 & ext\\_no2 & ext\\_so2 & ext\\_co\\\\\n",
       "\\hline\n",
       "\t 1                   & 1                   & 2013-01-01 01:00:00 & 1                   & 2013-01-01 00:00:00 & 2013                & 1                   & 0                   & 1                   & 2                   & ...                 & NA                  & NA                  &   NA                & NA                  & NA                  & NA                  & NA                  & NA                  & NA                  & NA                 \\\\\n",
       "\t 2                   & 2                   & 2013-01-01 02:00:00 & 2                   & 2013-01-01 01:00:00 & 2013                & 1                   & 1                   & 1                   & 2                   & ...                 & 23                  & 41                  & 65.6                & 26                  & NA                  & NA                  & NA                  & NA                  & NA                  & NA                 \\\\\n",
       "\t 3                   & 3                   & 2013-01-01 03:00:00 & 3                   & 2013-01-01 02:00:00 & 2013                & 1                   & 2                   & 1                   & 2                   & ...                 & 43                  & 61                  & 65.0                & 18                  & NA                  & NA                  & NA                  & NA                  & NA                  & NA                 \\\\\n",
       "\t 4                   & 4                   & 2013-01-01 04:00:00 & 4                   & 2013-01-01 03:00:00 & 2013                & 1                   & 3                   & 1                   & 2                   & ...                 & 22                  & 52                  & 63.3                & 45                  & NA                  & NA                  & NA                  & NA                  & NA                  & NA                 \\\\\n",
       "\t 5                   & 5                   & 2013-01-01 05:00:00 & 5                   & 2013-01-01 04:00:00 & 2013                & 1                   & 4                   & 1                   & 2                   & ...                 & 27                  & 56                  & 63.7                & 22                  & NA                  & NA                  & NA                  & NA                  & NA                  & NA                 \\\\\n",
       "\t 6                   & 6                   & 2013-01-01 06:00:00 & 6                   & 2013-01-01 05:00:00 & 2013                & 1                   & 5                   & 1                   & 2                   & ...                 & 27                  & 57                  & 63.3                & 15                  & NA                  & NA                  & NA                  & NA                  & NA                  & NA                 \\\\\n",
       "\\end{tabular}\n"
      ],
      "text/markdown": [
       "\n",
       "| X | Index | Date_Heure_Locale | Heure_Local | Timestamp | Annee | Mois | Heure | Semaine_de_lannee | Jour_de_la_Semaine | ... | no | no2 | humidite | particules_fines | ext_pm25 | ext_pm10 | ext_o3 | ext_no2 | ext_so2 | ext_co |\n",
       "|---|---|---|---|---|---|---|---|---|---|---|---|---|---|---|---|---|---|---|---|---|\n",
       "| 1                   | 1                   | 2013-01-01 01:00:00 | 1                   | 2013-01-01 00:00:00 | 2013                | 1                   | 0                   | 1                   | 2                   | ...                 | NA                  | NA                  |   NA                | NA                  | NA                  | NA                  | NA                  | NA                  | NA                  | NA                  |\n",
       "| 2                   | 2                   | 2013-01-01 02:00:00 | 2                   | 2013-01-01 01:00:00 | 2013                | 1                   | 1                   | 1                   | 2                   | ...                 | 23                  | 41                  | 65.6                | 26                  | NA                  | NA                  | NA                  | NA                  | NA                  | NA                  |\n",
       "| 3                   | 3                   | 2013-01-01 03:00:00 | 3                   | 2013-01-01 02:00:00 | 2013                | 1                   | 2                   | 1                   | 2                   | ...                 | 43                  | 61                  | 65.0                | 18                  | NA                  | NA                  | NA                  | NA                  | NA                  | NA                  |\n",
       "| 4                   | 4                   | 2013-01-01 04:00:00 | 4                   | 2013-01-01 03:00:00 | 2013                | 1                   | 3                   | 1                   | 2                   | ...                 | 22                  | 52                  | 63.3                | 45                  | NA                  | NA                  | NA                  | NA                  | NA                  | NA                  |\n",
       "| 5                   | 5                   | 2013-01-01 05:00:00 | 5                   | 2013-01-01 04:00:00 | 2013                | 1                   | 4                   | 1                   | 2                   | ...                 | 27                  | 56                  | 63.7                | 22                  | NA                  | NA                  | NA                  | NA                  | NA                  | NA                  |\n",
       "| 6                   | 6                   | 2013-01-01 06:00:00 | 6                   | 2013-01-01 05:00:00 | 2013                | 1                   | 5                   | 1                   | 2                   | ...                 | 27                  | 57                  | 63.3                | 15                  | NA                  | NA                  | NA                  | NA                  | NA                  | NA                  |\n",
       "\n"
      ],
      "text/plain": [
       "  X Index Date_Heure_Locale   Heure_Local Timestamp           Annee Mois Heure\n",
       "1 1 1     2013-01-01 01:00:00 1           2013-01-01 00:00:00 2013  1    0    \n",
       "2 2 2     2013-01-01 02:00:00 2           2013-01-01 01:00:00 2013  1    1    \n",
       "3 3 3     2013-01-01 03:00:00 3           2013-01-01 02:00:00 2013  1    2    \n",
       "4 4 4     2013-01-01 04:00:00 4           2013-01-01 03:00:00 2013  1    3    \n",
       "5 5 5     2013-01-01 05:00:00 5           2013-01-01 04:00:00 2013  1    4    \n",
       "6 6 6     2013-01-01 06:00:00 6           2013-01-01 05:00:00 2013  1    5    \n",
       "  Semaine_de_lannee Jour_de_la_Semaine ... no no2 humidite particules_fines\n",
       "1 1                 2                  ... NA NA    NA     NA              \n",
       "2 1                 2                  ... 23 41  65.6     26              \n",
       "3 1                 2                  ... 43 61  65.0     18              \n",
       "4 1                 2                  ... 22 52  63.3     45              \n",
       "5 1                 2                  ... 27 56  63.7     22              \n",
       "6 1                 2                  ... 27 57  63.3     15              \n",
       "  ext_pm25 ext_pm10 ext_o3 ext_no2 ext_so2 ext_co\n",
       "1 NA       NA       NA     NA      NA      NA    \n",
       "2 NA       NA       NA     NA      NA      NA    \n",
       "3 NA       NA       NA     NA      NA      NA    \n",
       "4 NA       NA       NA     NA      NA      NA    \n",
       "5 NA       NA       NA     NA      NA      NA    \n",
       "6 NA       NA       NA     NA      NA      NA    "
      ]
     },
     "metadata": {},
     "output_type": "display_data"
    }
   ],
   "source": [
    "head(df)"
   ]
  },
  {
   "cell_type": "markdown",
   "metadata": {},
   "source": [
    "##### Nombre de registres"
   ]
  },
  {
   "cell_type": "code",
   "execution_count": 8,
   "metadata": {},
   "outputs": [
    {
     "data": {
      "text/html": [
       "70152"
      ],
      "text/latex": [
       "70152"
      ],
      "text/markdown": [
       "70152"
      ],
      "text/plain": [
       "[1] 70152"
      ]
     },
     "metadata": {},
     "output_type": "display_data"
    }
   ],
   "source": [
    "nrow(df)"
   ]
  },
  {
   "cell_type": "markdown",
   "metadata": {},
   "source": [
    "##### Résumée des variables"
   ]
  },
  {
   "cell_type": "code",
   "execution_count": 9,
   "metadata": {
    "scrolled": false
   },
   "outputs": [
    {
     "data": {
      "text/plain": [
       "       X             Index                 Date_Heure_Locale  Heure_Local   \n",
       " Min.   :    1   Min.   :    1   2013-10-27 02:00:00:    2   Min.   : 0.00  \n",
       " 1st Qu.:17539   1st Qu.:17539   2014-10-26 02:00:00:    2   1st Qu.: 5.75  \n",
       " Median :35077   Median :35077   2015-10-25 02:00:00:    2   Median :11.50  \n",
       " Mean   :35077   Mean   :35077   2016-10-30 02:00:00:    2   Mean   :11.50  \n",
       " 3rd Qu.:52614   3rd Qu.:52614   2017-10-29 02:00:00:    2   3rd Qu.:17.25  \n",
       " Max.   :70152   Max.   :70152   2018-10-28 02:00:00:    2   Max.   :23.00  \n",
       "                                 (Other)            :70140                  \n",
       "               Timestamp         Annee           Mois            Heure      \n",
       " 2013-01-01 00:00:00:    1   Min.   :2013   Min.   : 1.000   Min.   : 0.00  \n",
       " 2013-01-01 01:00:00:    1   1st Qu.:2015   1st Qu.: 4.000   1st Qu.: 5.75  \n",
       " 2013-01-01 02:00:00:    1   Median :2017   Median : 7.000   Median :11.50  \n",
       " 2013-01-01 03:00:00:    1   Mean   :2017   Mean   : 6.521   Mean   :11.50  \n",
       " 2013-01-01 04:00:00:    1   3rd Qu.:2019   3rd Qu.:10.000   3rd Qu.:17.25  \n",
       " 2013-01-01 05:00:00:    1   Max.   :2021   Max.   :12.000   Max.   :23.00  \n",
       " (Other)            :70146                                                  \n",
       " Semaine_de_lannee Jour_de_la_Semaine Conge_Feriee   \n",
       " Min.   : 1.00     Min.   :1.000      Mode :logical  \n",
       " 1st Qu.:14.00     1st Qu.:2.000      FALSE:68281    \n",
       " Median :27.00     Median :4.000      TRUE :1871     \n",
       " Mean   :26.62     Mean   :3.999                     \n",
       " 3rd Qu.:40.00     3rd Qu.:6.000                     \n",
       " Max.   :53.00     Max.   :7.000                     \n",
       "                                                     \n",
       "                  Conge_Raison   Conge_scolaire \n",
       " []                     :68281   Mode :logical  \n",
       " [\"Jour de l'an\"]       :  191   FALSE:45978    \n",
       " [\"Armistice 1918\"]     :  168   TRUE :24174    \n",
       " [\"Ascension\"]          :  168                  \n",
       " [\"Assomption\"]         :  168                  \n",
       " [\"Fête de la Victoire\"]:  168                  \n",
       " (Other)                : 1008                  \n",
       "                                                                                                   Conge_scolaire_raison\n",
       " []                                                                                                           :45978    \n",
       " [\"Vacances d'été\"]                                                                                           : 7128    \n",
       " [\"Vacances de Noël - Zone A\",\"Vacances de Noël - Zone B\",\"Vacances de Noël - Zone C\"]                        : 2855    \n",
       " [\"Vacances de la Toussaint - Zone A\",\"Vacances de la Toussaint - Zone B\",\"Vacances de la Toussaint - Zone C\"]: 2647    \n",
       " [\"Vacances d'hiver - Zone A\",\"Vacances d'hiver - Zone B\"]                                                    : 1008    \n",
       " [\"Vacances d'hiver - Zone C\"]                                                                                : 1008    \n",
       " (Other)                                                                                                      : 9528    \n",
       " Conge_hebdomadaire        Conge_zones    Conges_Escolaire_Zone_C\n",
       " Mode :logical      []           :53106   Min.   :0.0000         \n",
       " FALSE:50135        [\"A\",\"B\",\"C\"]: 6318   1st Qu.:0.0000         \n",
       " TRUE :20017        [\"C\"]        : 2016   Median :0.0000         \n",
       "                    [\"A\",\"B\"]    : 1992   Mean   :0.1664         \n",
       "                    [\"A\"]        : 1704   3rd Qu.:0.0000         \n",
       "                    [\"B\",\"C\"]    : 1680   Max.   :1.0000         \n",
       "                    (Other)      : 3336                          \n",
       " Conges_Escolaire_Zone_B Conges_Escolaire_Zone_A pluie_3_heures  \n",
       " Min.   :0.0000          Min.   :0.0000          Min.   :-0.100  \n",
       " 1st Qu.:0.0000          1st Qu.:0.0000          1st Qu.: 0.000  \n",
       " Median :0.0000          Median :0.0000          Median : 0.000  \n",
       " Mean   :0.1664          Mean   :0.1664          Mean   : 0.212  \n",
       " 3rd Qu.:0.0000          3rd Qu.:0.0000          3rd Qu.: 0.000  \n",
       " Max.   :1.0000          Max.   :1.0000          Max.   :56.200  \n",
       "                                                 NA's   :4442    \n",
       "                                                                                                         temps_present  \n",
       " <c9>tat du ciel inchang<e9> dans l<U+0092>ensemble                                                             :22197  \n",
       " Dans l<U+0092>ensemble, nuages se dissipant ou devenant moins <e9>pais                                         :12453  \n",
       " Nuages en formation ou en train de se d<e9>velopper                                                            :10941  \n",
       " On n<U+0092>a pas observ<e9> d<U+0092><e9>volution des nuages ou on n<U+0092>a pas pu suivre cette <e9>volution: 7688  \n",
       " Pluie, sans cong<e9>lation, continue, faible au moment de l<U+0092>observation                                 : 1932  \n",
       " (Other)                                                                                                        :10499  \n",
       " NA's                                                                                                           : 4442  \n",
       " temperature_celsius    pression      direction_vent_10mn temps_present_num\n",
       " Min.   :-8.40       Min.   : 96010   Min.   :  0.0       Min.   : 0.000   \n",
       " 1st Qu.: 6.90       1st Qu.:100110   1st Qu.: 90.0       1st Qu.: 1.508   \n",
       " Median :11.80       Median :100677   Median :203.3       Median : 2.000   \n",
       " Mean   :12.22       Mean   :100617   Mean   :182.8       Mean   : 9.180   \n",
       " 3rd Qu.:17.27       3rd Qu.:101187   3rd Qu.:253.3       3rd Qu.: 4.000   \n",
       " Max.   :41.40       Max.   :103560   Max.   :360.0       Max.   :95.000   \n",
       " NA's   :4442        NA's   :4442     NA's   :4442        NA's   :4442     \n",
       " type_tendance_barometrique vitesse_vent_10mn nebulosite_totale\n",
       " Min.   :0.000              Min.   : 0.000    Min.   :  0.00   \n",
       " 1st Qu.:2.333              1st Qu.: 2.100    1st Qu.: 40.00   \n",
       " Median :4.000              Median : 3.249    Median : 80.56   \n",
       " Mean   :4.297              Mean   : 3.481    Mean   : 66.60   \n",
       " 3rd Qu.:6.333              3rd Qu.: 4.600    3rd Qu.: 93.33   \n",
       " Max.   :8.000              Max.   :14.400    Max.   :101.00   \n",
       " NA's   :4442               NA's   :4442      NA's   :4442     \n",
       "      co2          temperature          no              no2        \n",
       " Min.   : 381.0   Min.   : 3.80   Min.   :  1.00   Min.   :  4.00  \n",
       " 1st Qu.: 442.0   1st Qu.:15.60   1st Qu.: 10.00   1st Qu.: 39.00  \n",
       " Median : 475.0   Median :18.90   Median : 23.00   Median : 54.00  \n",
       " Mean   : 484.8   Mean   :19.26   Mean   : 37.33   Mean   : 54.91  \n",
       " 3rd Qu.: 515.0   3rd Qu.:23.00   3rd Qu.: 49.00   3rd Qu.: 69.00  \n",
       " Max.   :1056.0   Max.   :35.20   Max.   :929.00   Max.   :265.00  \n",
       " NA's   :6565     NA's   :2008    NA's   :8517     NA's   :6997    \n",
       "    humidite     particules_fines    ext_pm25         ext_pm10    \n",
       " Min.   :13.10   Min.   :  5.00   Min.   : 18.00   Min.   :  6.0  \n",
       " 1st Qu.:40.70   1st Qu.: 23.00   1st Qu.: 50.00   1st Qu.: 28.0  \n",
       " Median :47.60   Median : 35.00   Median : 61.00   Median : 36.0  \n",
       " Mean   :47.85   Mean   : 45.72   Mean   : 65.55   Mean   : 38.3  \n",
       " 3rd Qu.:54.90   3rd Qu.: 53.00   3rd Qu.: 76.00   3rd Qu.: 47.0  \n",
       " Max.   :95.40   Max.   :979.00   Max.   :177.00   Max.   :122.0  \n",
       " NA's   :2015    NA's   :3996     NA's   :12072    NA's   :12048  \n",
       "     ext_o3         ext_no2         ext_so2          ext_co      \n",
       " Min.   : 1.00   Min.   : 4.00   Min.   : 1.00   Min.   : 1.000  \n",
       " 1st Qu.:17.00   1st Qu.:32.00   1st Qu.: 1.00   1st Qu.: 3.000  \n",
       " Median :24.00   Median :40.00   Median : 1.00   Median : 4.000  \n",
       " Mean   :24.57   Mean   :40.46   Mean   : 1.51   Mean   : 4.505  \n",
       " 3rd Qu.:31.00   3rd Qu.:48.00   3rd Qu.: 1.00   3rd Qu.: 6.000  \n",
       " Max.   :85.00   Max.   :89.00   Max.   :33.00   Max.   :17.000  \n",
       " NA's   :12192   NA's   :12048   NA's   :62280   NA's   :30648   "
      ]
     },
     "metadata": {},
     "output_type": "display_data"
    }
   ],
   "source": [
    "summary(df)"
   ]
  },
  {
   "cell_type": "markdown",
   "metadata": {},
   "source": [
    "## Conclusions"
   ]
  },
  {
   "cell_type": "markdown",
   "metadata": {},
   "source": [
    "##### 1. Les congés scolaires ont comme des valeurs différentes les différents types de congés par zone. \n",
    "Par exemple, il  y a plusiers types de congés d'hiver : 'Vacances d\\'hiver - Zone A', '[\"Vacances d\\'hiver - Zone A\",\"Vacances d\\'hiver - Zone B\"]','Vacances d\\'hiver - Zone B' ... etc au lieu d'un seule type. Nous pouvons le réduire à un seul type parce que surtout nous avons à côté la région à laquelle sa corresponde dans la colonnes \"Conge_zones\"."
   ]
  },
  {
   "cell_type": "markdown",
   "metadata": {},
   "source": [
    "##### 2. Les conges scolaires et le temps present ont des nommes trop longues et compliqués à gerer"
   ]
  },
  {
   "cell_type": "markdown",
   "metadata": {},
   "source": [
    "##### 3. Le champ conges_raison en réalité corresponde à ferie_raison, nous changons le nom"
   ]
  },
  {
   "cell_type": "markdown",
   "metadata": {},
   "source": [
    "##### 4. Nous n'avons pas besoin que des congés parisiens. "
   ]
  },
  {
   "cell_type": "markdown",
   "metadata": {},
   "source": [
    "## Actions"
   ]
  },
  {
   "cell_type": "markdown",
   "metadata": {},
   "source": [
    "##### 1. Changement des factors : Conges scolaire raison"
   ]
  },
  {
   "cell_type": "code",
   "execution_count": 10,
   "metadata": {},
   "outputs": [],
   "source": [
    "levels(df$Conge_scolaire_raison) <- c(\"ete\",\"hiver\",\"hiver\",\"hiver\",\"hiver\",\"hiver\",\"hiver\",\"hiver\",\"Toussaint\",\"Noel\",\"printemps\",\"printemps\",\"printemps\",\"printemps\",\"printemps\",\"printemps\",\"printemps\",\"\")"
   ]
  },
  {
   "cell_type": "markdown",
   "metadata": {},
   "source": [
    "##### 2. Changement des factors : temps present"
   ]
  },
  {
   "cell_type": "code",
   "execution_count": 11,
   "metadata": {},
   "outputs": [],
   "source": [
    "levels(df$temps_present)<-c('Clairs','Clairs','Averse','Neige','Averse','Averse','Averse','Averse','Averse','Averse','Brouillard','Brouillard','Brouillard','Brouillard','Brouillard','Brouillard','Brouillard','Brouillard','Brouillard','Brouillard','Brouillard','Bruine','Bruine','Bruine','Bruine','Bruine','Bruine','Bruine','Bruine','Brume','Brume','Neige','Neige','Neige','Nuages','Brouillard','Neige','Neige','Nuages','Nuages','Orage','Orage','Orage','Pluie','Pluie','Pluie','Pluie','Pluie','Pluie','Pluie','Pluie','Pluie','Pluie','Pluie','Pluie','Pluie','Pluie')"
   ]
  },
  {
   "cell_type": "markdown",
   "metadata": {},
   "source": [
    "##### 3. Changer le nom de la colonne conges_raison"
   ]
  },
  {
   "cell_type": "code",
   "execution_count": 12,
   "metadata": {},
   "outputs": [],
   "source": [
    "names(df)[11]<-\"Ferie\"\n",
    "names(df)[12]<-\"Ferie_raison\""
   ]
  },
  {
   "cell_type": "markdown",
   "metadata": {},
   "source": [
    "##### 4. Etant nos stations à Paris, nous prennons que la zone C comme référence"
   ]
  },
  {
   "cell_type": "code",
   "execution_count": 13,
   "metadata": {},
   "outputs": [
    {
     "name": "stderr",
     "output_type": "stream",
     "text": [
      "Warning message in `[<-.factor`(`*tmp*`, iseq, value = c(\"[]\", \"[]\", \"[]\", \"[]\", :\n",
      "\"invalid factor level, NA generated\""
     ]
    }
   ],
   "source": [
    "#Supprimer congés qui n'appartient pas à la zone parisiènne\n",
    "df[df[\"Conges_Escolaire_Zone_C\"]==0,][\"Conge_scolaire_raison\"]<-\"[]\"\n",
    "\n",
    "#Les conges escolaires doivent corresponder aux congés de la zone C\n",
    "df[\"Conges_Escolaire\"]<-df[\"Conges_Escolaire_Zone_C\"]==1\n",
    "\n",
    "#Nous supprimons les colonnes dont nous n'avons plus besoin\n",
    "df$Conge_zones<-NULL\n",
    "df$Conges_Escolaire_Zone_A<-NULL\n",
    "df$Conges_Escolaire_Zone_B<-NULL\n",
    "df$Conges_Escolaire_Zone_C<-NULL"
   ]
  },
  {
   "cell_type": "markdown",
   "metadata": {},
   "source": [
    "##### 5. On peut pas s'en servir de \"ext_so2\" et \"ext_co\" n'ayant pas assez des données. "
   ]
  },
  {
   "cell_type": "code",
   "execution_count": 14,
   "metadata": {},
   "outputs": [],
   "source": [
    "df$ext_so2<-NULL\n",
    "df$ext_co<-NULL"
   ]
  },
  {
   "cell_type": "markdown",
   "metadata": {},
   "source": [
    "#### Mes tests"
   ]
  },
  {
   "cell_type": "code",
   "execution_count": 15,
   "metadata": {
    "scrolled": false
   },
   "outputs": [
    {
     "data": {
      "text/plain": [
       "       X             Index                 Date_Heure_Locale  Heure_Local   \n",
       " Min.   :    1   Min.   :    1   2013-10-27 02:00:00:    2   Min.   : 0.00  \n",
       " 1st Qu.:17539   1st Qu.:17539   2014-10-26 02:00:00:    2   1st Qu.: 5.75  \n",
       " Median :35077   Median :35077   2015-10-25 02:00:00:    2   Median :11.50  \n",
       " Mean   :35077   Mean   :35077   2016-10-30 02:00:00:    2   Mean   :11.50  \n",
       " 3rd Qu.:52614   3rd Qu.:52614   2017-10-29 02:00:00:    2   3rd Qu.:17.25  \n",
       " Max.   :70152   Max.   :70152   2018-10-28 02:00:00:    2   Max.   :23.00  \n",
       "                                 (Other)            :70140                  \n",
       "               Timestamp         Annee           Mois            Heure      \n",
       " 2013-01-01 00:00:00:    1   Min.   :2013   Min.   : 1.000   Min.   : 0.00  \n",
       " 2013-01-01 01:00:00:    1   1st Qu.:2015   1st Qu.: 4.000   1st Qu.: 5.75  \n",
       " 2013-01-01 02:00:00:    1   Median :2017   Median : 7.000   Median :11.50  \n",
       " 2013-01-01 03:00:00:    1   Mean   :2017   Mean   : 6.521   Mean   :11.50  \n",
       " 2013-01-01 04:00:00:    1   3rd Qu.:2019   3rd Qu.:10.000   3rd Qu.:17.25  \n",
       " 2013-01-01 05:00:00:    1   Max.   :2021   Max.   :12.000   Max.   :23.00  \n",
       " (Other)            :70146                                                  \n",
       " Semaine_de_lannee Jour_de_la_Semaine   Ferie        \n",
       " Min.   : 1.00     Min.   :1.000      Mode :logical  \n",
       " 1st Qu.:14.00     1st Qu.:2.000      FALSE:68281    \n",
       " Median :27.00     Median :4.000      TRUE :1871     \n",
       " Mean   :26.62     Mean   :3.999                     \n",
       " 3rd Qu.:40.00     3rd Qu.:6.000                     \n",
       " Max.   :53.00     Max.   :7.000                     \n",
       "                                                     \n",
       "                  Ferie_raison   Conge_scolaire  Conge_scolaire_raison\n",
       " []                     :68281   Mode :logical   ete      :    0      \n",
       " [\"Jour de l'an\"]       :  191   FALSE:45978     hiver    : 3072      \n",
       " [\"Armistice 1918\"]     :  168   TRUE :24174     Toussaint: 2647      \n",
       " [\"Ascension\"]          :  168                   Noel     : 2855      \n",
       " [\"Assomption\"]         :  168                   printemps: 3096      \n",
       " [\"Fête de la Victoire\"]:  168                            :    0      \n",
       " (Other)                : 1008                   NA's     :58482      \n",
       " Conge_hebdomadaire pluie_3_heures      temps_present   temperature_celsius\n",
       " Mode :logical      Min.   :-0.100   Nuages    :31082   Min.   :-8.40      \n",
       " FALSE:50135        1st Qu.: 0.000   Clairs    :22215   1st Qu.: 6.90      \n",
       " TRUE :20017        Median : 0.000   Pluie     : 5513   Median :11.80      \n",
       "                    Mean   : 0.212   Brume     : 1842   Mean   :12.22      \n",
       "                    3rd Qu.: 0.000   Brouillard: 1650   3rd Qu.:17.27      \n",
       "                    Max.   :56.200   (Other)   : 3408   Max.   :41.40      \n",
       "                    NA's   :4442     NA's      : 4442   NA's   :4442       \n",
       "    pression      direction_vent_10mn temps_present_num\n",
       " Min.   : 96010   Min.   :  0.0       Min.   : 0.000   \n",
       " 1st Qu.:100110   1st Qu.: 90.0       1st Qu.: 1.508   \n",
       " Median :100677   Median :203.3       Median : 2.000   \n",
       " Mean   :100617   Mean   :182.8       Mean   : 9.180   \n",
       " 3rd Qu.:101187   3rd Qu.:253.3       3rd Qu.: 4.000   \n",
       " Max.   :103560   Max.   :360.0       Max.   :95.000   \n",
       " NA's   :4442     NA's   :4442        NA's   :4442     \n",
       " type_tendance_barometrique vitesse_vent_10mn nebulosite_totale\n",
       " Min.   :0.000              Min.   : 0.000    Min.   :  0.00   \n",
       " 1st Qu.:2.333              1st Qu.: 2.100    1st Qu.: 40.00   \n",
       " Median :4.000              Median : 3.249    Median : 80.56   \n",
       " Mean   :4.297              Mean   : 3.481    Mean   : 66.60   \n",
       " 3rd Qu.:6.333              3rd Qu.: 4.600    3rd Qu.: 93.33   \n",
       " Max.   :8.000              Max.   :14.400    Max.   :101.00   \n",
       " NA's   :4442               NA's   :4442      NA's   :4442     \n",
       "      co2          temperature          no              no2        \n",
       " Min.   : 381.0   Min.   : 3.80   Min.   :  1.00   Min.   :  4.00  \n",
       " 1st Qu.: 442.0   1st Qu.:15.60   1st Qu.: 10.00   1st Qu.: 39.00  \n",
       " Median : 475.0   Median :18.90   Median : 23.00   Median : 54.00  \n",
       " Mean   : 484.8   Mean   :19.26   Mean   : 37.33   Mean   : 54.91  \n",
       " 3rd Qu.: 515.0   3rd Qu.:23.00   3rd Qu.: 49.00   3rd Qu.: 69.00  \n",
       " Max.   :1056.0   Max.   :35.20   Max.   :929.00   Max.   :265.00  \n",
       " NA's   :6565     NA's   :2008    NA's   :8517     NA's   :6997    \n",
       "    humidite     particules_fines    ext_pm25         ext_pm10    \n",
       " Min.   :13.10   Min.   :  5.00   Min.   : 18.00   Min.   :  6.0  \n",
       " 1st Qu.:40.70   1st Qu.: 23.00   1st Qu.: 50.00   1st Qu.: 28.0  \n",
       " Median :47.60   Median : 35.00   Median : 61.00   Median : 36.0  \n",
       " Mean   :47.85   Mean   : 45.72   Mean   : 65.55   Mean   : 38.3  \n",
       " 3rd Qu.:54.90   3rd Qu.: 53.00   3rd Qu.: 76.00   3rd Qu.: 47.0  \n",
       " Max.   :95.40   Max.   :979.00   Max.   :177.00   Max.   :122.0  \n",
       " NA's   :2015    NA's   :3996     NA's   :12072    NA's   :12048  \n",
       "     ext_o3         ext_no2      Conges_Escolaire.Conges_Escolaire_Zone_C\n",
       " Min.   : 1.00   Min.   : 4.00   Mode :logical                           \n",
       " 1st Qu.:17.00   1st Qu.:32.00   FALSE:58482                             \n",
       " Median :24.00   Median :40.00   TRUE :11670                             \n",
       " Mean   :24.57   Mean   :40.46                                           \n",
       " 3rd Qu.:31.00   3rd Qu.:48.00                                           \n",
       " Max.   :85.00   Max.   :89.00                                           \n",
       " NA's   :12192   NA's   :12048                                           "
      ]
     },
     "metadata": {},
     "output_type": "display_data"
    }
   ],
   "source": [
    "summary(df)"
   ]
  },
  {
   "cell_type": "markdown",
   "metadata": {},
   "source": [
    "## Ecriture des données en disque"
   ]
  },
  {
   "cell_type": "code",
   "execution_count": 16,
   "metadata": {},
   "outputs": [],
   "source": [
    "fichier_donnees=paste(DATA_PATH,DATA_FILE_OUT,sep=\"\")\n",
    "write.csv(df,fichier_donnees)"
   ]
  }
 ],
 "metadata": {
  "kernelspec": {
   "display_name": "R",
   "language": "R",
   "name": "ir"
  },
  "language_info": {
   "codemirror_mode": "r",
   "file_extension": ".r",
   "mimetype": "text/x-r-source",
   "name": "R",
   "pygments_lexer": "r",
   "version": "3.6.1"
  }
 },
 "nbformat": 4,
 "nbformat_minor": 2
}
